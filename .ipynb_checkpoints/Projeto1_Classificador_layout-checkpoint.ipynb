{
 "cells": [
  {
   "cell_type": "markdown",
   "metadata": {},
   "source": [
    "# Projeto 1 - Ciência dos Dados"
   ]
  },
  {
   "cell_type": "markdown",
   "metadata": {},
   "source": [
    "Nome: Luiz Ricardo Hardman Paranhos\n",
    "\n",
    "Nome: Matheus Kwon"
   ]
  },
  {
   "cell_type": "markdown",
   "metadata": {},
   "source": [
    "**Atenção:** Serão permitidos grupos de três pessoas, mas com uma rubrica mais exigente. Grupos deste tamanho precisarão fazer um questionário de avaliação de trabalho em equipe"
   ]
  },
  {
   "cell_type": "markdown",
   "metadata": {},
   "source": [
    "___\n",
    "Carregando algumas bibliotecas:"
   ]
  },
  {
   "cell_type": "code",
   "execution_count": 64,
   "metadata": {},
   "outputs": [],
   "source": [
    "%matplotlib inline\n",
    "import pandas as pd\n",
    "import matplotlib.pyplot as plt\n",
    "import numpy as np\n",
    "import os"
   ]
  },
  {
   "cell_type": "markdown",
   "metadata": {},
   "source": [
    "**Em `filename`, coloque o nome do seu arquivo de dados!**"
   ]
  },
  {
   "cell_type": "code",
   "execution_count": 65,
   "metadata": {
    "scrolled": false
   },
   "outputs": [
    {
     "name": "stdout",
     "output_type": "stream",
     "text": [
      "Encontrei o arquivo cheetos.xlsx, tudo certo para prosseguir com a prova!\n"
     ]
    }
   ],
   "source": [
    "import os\n",
    "\n",
    "filename = 'cheetos.xlsx'\n",
    "if filename in os.listdir():\n",
    "    print(f'Encontrei o arquivo {filename}, tudo certo para prosseguir com a prova!')\n",
    "else:\n",
    "    print(f'Não encontrei o arquivo {filename} aqui no diretório {os.getcwd()}, será que você não baixou o arquivo?')"
   ]
  },
  {
   "cell_type": "markdown",
   "metadata": {},
   "source": [
    "Carregando a base de dados com os tweets classificados como relevantes e não relevantes:"
   ]
  },
  {
   "cell_type": "code",
   "execution_count": 66,
   "metadata": {},
   "outputs": [
    {
     "data": {
      "text/html": [
       "<div>\n",
       "<style scoped>\n",
       "    .dataframe tbody tr th:only-of-type {\n",
       "        vertical-align: middle;\n",
       "    }\n",
       "\n",
       "    .dataframe tbody tr th {\n",
       "        vertical-align: top;\n",
       "    }\n",
       "\n",
       "    .dataframe thead th {\n",
       "        text-align: right;\n",
       "    }\n",
       "</style>\n",
       "<table border=\"1\" class=\"dataframe\">\n",
       "  <thead>\n",
       "    <tr style=\"text-align: right;\">\n",
       "      <th></th>\n",
       "      <th>Treinamento</th>\n",
       "      <th>relevancia</th>\n",
       "    </tr>\n",
       "  </thead>\n",
       "  <tbody>\n",
       "    <tr>\n",
       "      <td>0</td>\n",
       "      <td>@eaipaixao_ cheetos obv</td>\n",
       "      <td>1.0</td>\n",
       "    </tr>\n",
       "    <tr>\n",
       "      <td>1</td>\n",
       "      <td>@giovannapinto mano eu fui comprar 2 cheetos e...</td>\n",
       "      <td>1.0</td>\n",
       "    </tr>\n",
       "    <tr>\n",
       "      <td>2</td>\n",
       "      <td>@zabele__ só tenho cheetos</td>\n",
       "      <td>0.0</td>\n",
       "    </tr>\n",
       "    <tr>\n",
       "      <td>3</td>\n",
       "      <td>@lilizvante cheetos, old\\nhttps://t.co/atamf2woj7</td>\n",
       "      <td>0.0</td>\n",
       "    </tr>\n",
       "    <tr>\n",
       "      <td>4</td>\n",
       "      <td>@biaventura14 kkkkkkkkkkkkkkkkkkkkk cheetos ve...</td>\n",
       "      <td>1.0</td>\n",
       "    </tr>\n",
       "  </tbody>\n",
       "</table>\n",
       "</div>"
      ],
      "text/plain": [
       "                                         Treinamento  relevancia\n",
       "0                            @eaipaixao_ cheetos obv         1.0\n",
       "1  @giovannapinto mano eu fui comprar 2 cheetos e...         1.0\n",
       "2                         @zabele__ só tenho cheetos         0.0\n",
       "3  @lilizvante cheetos, old\\nhttps://t.co/atamf2woj7         0.0\n",
       "4  @biaventura14 kkkkkkkkkkkkkkkkkkkkk cheetos ve...         1.0"
      ]
     },
     "execution_count": 66,
     "metadata": {},
     "output_type": "execute_result"
    }
   ],
   "source": [
    "train = pd.read_excel(filename)\n",
    "train.head(5)"
   ]
  },
  {
   "cell_type": "code",
   "execution_count": 67,
   "metadata": {},
   "outputs": [
    {
     "data": {
      "text/html": [
       "<div>\n",
       "<style scoped>\n",
       "    .dataframe tbody tr th:only-of-type {\n",
       "        vertical-align: middle;\n",
       "    }\n",
       "\n",
       "    .dataframe tbody tr th {\n",
       "        vertical-align: top;\n",
       "    }\n",
       "\n",
       "    .dataframe thead th {\n",
       "        text-align: right;\n",
       "    }\n",
       "</style>\n",
       "<table border=\"1\" class=\"dataframe\">\n",
       "  <thead>\n",
       "    <tr style=\"text-align: right;\">\n",
       "      <th></th>\n",
       "      <th>Teste</th>\n",
       "      <th>relevancia</th>\n",
       "    </tr>\n",
       "  </thead>\n",
       "  <tbody>\n",
       "    <tr>\n",
       "      <td>0</td>\n",
       "      <td>sou do tipo que quando tá conversando com algu...</td>\n",
       "      <td>0</td>\n",
       "    </tr>\n",
       "    <tr>\n",
       "      <td>1</td>\n",
       "      <td>att fresquinha de flaming hot cheetos!!!! http...</td>\n",
       "      <td>0</td>\n",
       "    </tr>\n",
       "    <tr>\n",
       "      <td>2</td>\n",
       "      <td>me entupindo de cheetos enquanto vejo tapas e ...</td>\n",
       "      <td>0</td>\n",
       "    </tr>\n",
       "    <tr>\n",
       "      <td>3</td>\n",
       "      <td>cheetos ou doritos https://t.co/caytqjylnp</td>\n",
       "      <td>0</td>\n",
       "    </tr>\n",
       "    <tr>\n",
       "      <td>4</td>\n",
       "      <td>mas quem colocou o cheetos na minha tml hoje ?</td>\n",
       "      <td>0</td>\n",
       "    </tr>\n",
       "  </tbody>\n",
       "</table>\n",
       "</div>"
      ],
      "text/plain": [
       "                                               Teste  relevancia\n",
       "0  sou do tipo que quando tá conversando com algu...           0\n",
       "1  att fresquinha de flaming hot cheetos!!!! http...           0\n",
       "2  me entupindo de cheetos enquanto vejo tapas e ...           0\n",
       "3         cheetos ou doritos https://t.co/caytqjylnp           0\n",
       "4     mas quem colocou o cheetos na minha tml hoje ?           0"
      ]
     },
     "execution_count": 67,
     "metadata": {},
     "output_type": "execute_result"
    }
   ],
   "source": [
    "test = pd.read_excel(filename, sheet_name = 'Teste')\n",
    "test.head(5)"
   ]
  },
  {
   "cell_type": "markdown",
   "metadata": {},
   "source": [
    "___\n",
    "## Classificador automático de sentimento\n"
   ]
  },
  {
   "cell_type": "markdown",
   "metadata": {},
   "source": [
    "Faça aqui uma descrição do seu produto e o que considerou como relevante ou não relevante na classificação dos tweets.\n",
    "\n",
    "- Relevante: informação da qual a empresa pode ganhar dinheiro\n",
    "- Irrelevante: resto"
   ]
  },
  {
   "cell_type": "markdown",
   "metadata": {},
   "source": [
    "___\n",
    "### Montando um Classificador Naive-Bayes\n",
    "\n",
    "Considerando apenas as mensagens da planilha Treinamento, ensine  seu classificador."
   ]
  },
  {
   "cell_type": "code",
   "execution_count": 68,
   "metadata": {},
   "outputs": [],
   "source": [
    "train['relevancia'] = train['relevancia'].astype('category')\n",
    "train.relevancia.cat.categories = ['irrelevante', 'relevante']"
   ]
  },
  {
   "cell_type": "code",
   "execution_count": 69,
   "metadata": {},
   "outputs": [],
   "source": [
    "# https://docs.python.org/3/library/re.html#\n",
    "import re \n",
    "\n",
    "\n",
    "def cleanup(text):\n",
    "    \"\"\"\n",
    "        Função de limpeza muito simples que troca alguns sinais básicos por espaços\n",
    "    \"\"\"\n",
    "    #import string\n",
    "    punctuation = '[!-.:?;/,_@¿]' # Note que os sinais [] são delimitadores de um conjunto.\n",
    "    pattern = re.compile(punctuation)\n",
    "    text_subbed = re.sub(pattern, '', text)\n",
    "    return text_subbed\n",
    "\n",
    "def cleanup_enter(text):\n",
    "    punctuation = '\\n'\n",
    "    pattern = re.compile(punctuation)\n",
    "    text_subbed = re.sub(pattern, ' ', text)\n",
    "    return text_subbed\n",
    "\n",
    "def deEmojify(text):\n",
    "    regrex_pattern = re.compile(pattern = \"[\"\n",
    "        u\"\\U0001F600-\\U0001F64F\"  # emoticons\n",
    "        u\"\\U0001F300-\\U0001F5FF\"  # symbols & pictographs\n",
    "        u\"\\U0001F680-\\U0001F6FF\"  # transport & map symbols\n",
    "        u\"\\U0001F1E0-\\U0001F1FF\"  # flags (iOS)\n",
    "                            \"]+\", flags = re.UNICODE)\n",
    "    return regrex_pattern.sub(r'',text)\n",
    "\n",
    "def link(text):\n",
    "    text = re.sub(r'http\\S+', '', text, flags=re.MULTILINE)\n",
    "    text = re.sub(r'https\\S+', '', text, flags=re.MULTILINE)\n",
    "    text = re.sub(r'@\\S+', '', text, flags=re.MULTILINE)\n",
    "    return text"
   ]
  },
  {
   "cell_type": "code",
   "execution_count": 70,
   "metadata": {
    "scrolled": true
   },
   "outputs": [],
   "source": [
    "# String com todas as palavras\n",
    "tweets_treinamento_raw = ''\n",
    "for tweet in train.Treinamento:\n",
    "    tweets_treinamento_raw = tweets_treinamento_raw + ' ' + tweet\n",
    "tweets_treinamento = deEmojify(cleanup_enter(cleanup(link(tweets_treinamento_raw.lower()))))"
   ]
  },
  {
   "cell_type": "code",
   "execution_count": 71,
   "metadata": {},
   "outputs": [],
   "source": [
    "# String com os relevantes\n",
    "filtro_relevante_train = train.relevancia == 'relevante'\n",
    "treinamento_relevante = train.loc[filtro_relevante_train,:]\n",
    "\n",
    "tweets_relevantes = ''\n",
    "for tweet in treinamento_relevante.Treinamento:\n",
    "    tweets_relevantes = tweets_relevantes + ' ' + tweet\n",
    "\n",
    "treinamento_relevante = deEmojify(cleanup_enter(cleanup(link(tweets_relevantes.lower()))))"
   ]
  },
  {
   "cell_type": "code",
   "execution_count": 72,
   "metadata": {},
   "outputs": [],
   "source": [
    "# String com os irrelevantes\n",
    "filtro_irrelevante_train = train.relevancia == 'irrelevante'\n",
    "treinamento_irrelevante = train.loc[filtro_irrelevante_train,:]\n",
    "\n",
    "tweets_irrelevantes = ''\n",
    "for tweet in treinamento_irrelevante.Treinamento:\n",
    "    tweets_irrelevantes = tweets_irrelevantes + ' ' + tweet\n",
    "\n",
    "    \n",
    "treinamento_irrelevante = deEmojify(cleanup_enter(cleanup(tweets_irrelevantes.lower())))"
   ]
  },
  {
   "cell_type": "code",
   "execution_count": 73,
   "metadata": {},
   "outputs": [],
   "source": [
    "# Criando lista e séries a partir das strings\n",
    "tweets_treinamento_lista = tweets_treinamento.split()\n",
    "treinamento_relevante_lista = treinamento_relevante.split()\n",
    "treinamento_irrelevante_lista = treinamento_irrelevante.split()\n",
    "\n",
    "serie_treinamento = pd.Series(tweets_treinamento_lista)\n",
    "serie_treinamento_relevante = pd.Series(treinamento_relevante_lista)\n",
    "serie_treinamento_irrelevante = pd.Series(treinamento_irrelevante_lista)"
   ]
  },
  {
   "cell_type": "code",
   "execution_count": 74,
   "metadata": {},
   "outputs": [
    {
     "data": {
      "text/plain": [
       "cheetos    297\n",
       "de         171\n",
       "e          116\n",
       "o           81\n",
       "um          81\n",
       "          ... \n",
       "harsh        1\n",
       "tb           1\n",
       "2020         1\n",
       "tou          1\n",
       "for          1\n",
       "Length: 1236, dtype: int64"
      ]
     },
     "execution_count": 74,
     "metadata": {},
     "output_type": "execute_result"
    }
   ],
   "source": [
    "tabela_treinamento = serie_treinamento.value_counts()\n",
    "tabela_treinamento"
   ]
  },
  {
   "cell_type": "code",
   "execution_count": 75,
   "metadata": {},
   "outputs": [
    {
     "data": {
      "text/plain": [
       "cheetos      151\n",
       "de            92\n",
       "e             48\n",
       "um            39\n",
       "eu            31\n",
       "            ... \n",
       "funcional      1\n",
       "trakinas       1\n",
       "xau            1\n",
       "agora          1\n",
       "for            1\n",
       "Length: 554, dtype: int64"
      ]
     },
     "execution_count": 75,
     "metadata": {},
     "output_type": "execute_result"
    }
   ],
   "source": [
    "tabela_treinamento_relevante = serie_treinamento_relevante.value_counts()\n",
    "tabela_treinamento_relevante"
   ]
  },
  {
   "cell_type": "code",
   "execution_count": 85,
   "metadata": {},
   "outputs": [],
   "source": [
    "stopwords = ['uma','em','mais','q','que','na','da','do','no','eu','de','e','o','um','a','com','pra']"
   ]
  },
  {
   "cell_type": "code",
   "execution_count": 86,
   "metadata": {},
   "outputs": [
    {
     "data": {
      "text/plain": [
       "cheetos      0.112202\n",
       "é            0.022667\n",
       "comer        0.014356\n",
       "requeijão    0.011711\n",
       "não          0.011711\n",
       "doritos      0.009822\n",
       "tem          0.009822\n",
       "meu          0.008689\n",
       "mas          0.007178\n",
       "me           0.007178\n",
       "só           0.006800\n",
       "por          0.006045\n",
       "gosto        0.005289\n",
       "pq           0.004911\n",
       "se           0.004911\n",
       "melhor       0.004911\n",
       "cheiro       0.004533\n",
       "vontade      0.004533\n",
       "minha        0.004533\n",
       "vou          0.004533\n",
       "dtype: float64"
      ]
     },
     "execution_count": 86,
     "metadata": {},
     "output_type": "execute_result"
    }
   ],
   "source": [
    "# Removendo stop words da lista de todas as palavras\n",
    "tweets_treinamento_stopwords_lista = []\n",
    "for palavra in tweets_treinamento_lista:\n",
    "    x = 0\n",
    "    if palavra in stopwords:\n",
    "        x = 1\n",
    "    if x == 0:\n",
    "        if palavra[-3:] == 'ndo' or palavra[-3:] == 'mos':\n",
    "            tweets_treinamento_stopwords_lista.append(palavra[:-3]+'r')\n",
    "        elif palavra == 'n' or palavra == 'nao':\n",
    "            treinamento_irrelevante_stopwords_lista.append('não')\n",
    "        else:\n",
    "            tweets_treinamento_stopwords_lista.append(palavra)\n",
    "        \n",
    "\n",
    "serie_treinamento_filtrado = pd.Series(tweets_treinamento_stopwords_lista)\n",
    "tabela_treinamento_filtrado = serie_treinamento_filtrado.value_counts(True)\n",
    "tabela_treinamento_filtrado.head(20)"
   ]
  },
  {
   "cell_type": "code",
   "execution_count": 87,
   "metadata": {},
   "outputs": [
    {
     "data": {
      "text/plain": [
       "cheetos       0.137273\n",
       "é             0.027273\n",
       "requeijão     0.025455\n",
       "comer         0.021818\n",
       "doritos       0.017273\n",
       "gosto         0.010909\n",
       "meu           0.010000\n",
       "vontade       0.010000\n",
       "melhor        0.010000\n",
       "mas           0.009091\n",
       "queria        0.009091\n",
       "tem           0.008182\n",
       "me            0.007273\n",
       "só            0.007273\n",
       "fandangos     0.007273\n",
       "ou            0.006364\n",
       "salgadinho    0.006364\n",
       "sabor         0.006364\n",
       "pq            0.006364\n",
       "pacote        0.006364\n",
       "dtype: float64"
      ]
     },
     "execution_count": 87,
     "metadata": {},
     "output_type": "execute_result"
    }
   ],
   "source": [
    "# Removendo stop words da lista de todas as palavras relevantes\n",
    "treinamento_relevante_stopwords_lista = []\n",
    "for palavra in treinamento_relevante_lista:\n",
    "    x = 0\n",
    "    if palavra in stopwords:\n",
    "        x = 1\n",
    "    if x == 0:\n",
    "        if palavra[-3:] == 'ndo' or palavra[-3:] == 'mos':\n",
    "            treinamento_relevante_stopwords_lista.append(palavra[:-3]+'r')\n",
    "        elif palavra == 'n' or palavra == 'nao':\n",
    "            treinamento_irrelevante_stopwords_lista.append('não')\n",
    "        else:\n",
    "            treinamento_relevante_stopwords_lista.append(palavra)\n",
    "\n",
    "serie_treinamento_relevante_filtrado = pd.Series(treinamento_relevante_stopwords_lista)\n",
    "tabela_treinamento_relevante_filtrado = serie_treinamento_relevante_filtrado.value_counts(True)\n",
    "tabela_treinamento_relevante_filtrado.head(20)"
   ]
  },
  {
   "cell_type": "code",
   "execution_count": 88,
   "metadata": {},
   "outputs": [
    {
     "data": {
      "text/plain": [
       "cheetos    0.084994\n",
       "não        0.023447\n",
       "é          0.017585\n",
       "tem        0.009965\n",
       "por        0.008206\n",
       "comer      0.008206\n",
       "meu        0.007034\n",
       "me         0.006448\n",
       "cheiro     0.005862\n",
       "vou        0.005862\n",
       "só         0.005862\n",
       "mas        0.005275\n",
       "ele        0.005275\n",
       "minha      0.004689\n",
       "como       0.004689\n",
       "se         0.004103\n",
       "seu        0.004103\n",
       "aqui       0.004103\n",
       "tipo       0.004103\n",
       "as         0.003517\n",
       "dtype: float64"
      ]
     },
     "execution_count": 88,
     "metadata": {},
     "output_type": "execute_result"
    }
   ],
   "source": [
    "# Removendo stop words da lista de todas as palavras irrelevantes\n",
    "treinamento_irrelevante_stopwords_lista = []\n",
    "for palavra in treinamento_irrelevante_lista:\n",
    "    x = 0\n",
    "    if palavra in stopwords:\n",
    "        x = 1\n",
    "    if x == 0:\n",
    "        if palavra[-3:] == 'ndo' or palavra[-3:] == 'mos':\n",
    "            treinamento_irrelevante_stopwords_lista.append(palavra[:-3]+'r')\n",
    "        elif palavra == 'n' or palavra == 'nao':\n",
    "            treinamento_irrelevante_stopwords_lista.append('não')\n",
    "        else:\n",
    "            treinamento_irrelevante_stopwords_lista.append(palavra)\n",
    "\n",
    "serie_treinamento_irrelevante_filtrado = pd.Series(treinamento_irrelevante_stopwords_lista)\n",
    "tabela_treinamento_irrelevante_filtrado = serie_treinamento_irrelevante_filtrado.value_counts(True)\n",
    "tabela_treinamento_irrelevante_filtrado.head(20)"
   ]
  },
  {
   "cell_type": "code",
   "execution_count": 79,
   "metadata": {},
   "outputs": [
    {
     "name": "stdout",
     "output_type": "stream",
     "text": [
      "P(R): 0.41492537313432837\n",
      "P(Rc): 0.5850746268656717\n",
      "1.0\n",
      "P(R|Requeijao): 0.903225806451613\n",
      "P(Rc|Requeijao): 0.08786446756448811\n",
      "0.9910902740161011\n"
     ]
    }
   ],
   "source": [
    "P_R = len(treinamento_relevante_stopwords_lista) / len(tweets_treinamento_stopwords_lista)\n",
    "print('P(R):',P_R)\n",
    "P_Rc = 1 - P_R\n",
    "print('P(Rc):',P_Rc)\n",
    "print(P_R + P_Rc)\n",
    "\n",
    "P_RequeijaoDadoR = tabela_treinamento_relevante_filtrado['requeijão']\n",
    "P_Requeijao = tabela_treinamento_filtrado['requeijão']\n",
    "P_RDadoRequeijao = P_RequeijaoDadoR * P_R / P_Requeijao\n",
    "print('P(R|Requeijao):',P_RDadoRequeijao)\n",
    "\n",
    "P_RequeijaoDadoRc = tabela_treinamento_irrelevante_filtrado['requeijão']\n",
    "P_RcDadoRequeijao = P_RequeijaoDadoRc * P_Rc / P_Requeijao\n",
    "print('P(Rc|Requeijao):',P_RcDadoRequeijao)\n",
    "\n",
    "# print(P_RequeijaoDadoRc)\n",
    "# print(P_RequeijaoDadoR)\n",
    "print(P_RDadoRequeijao+P_RcDadoRequeijao)\n"
   ]
  },
  {
   "cell_type": "code",
   "execution_count": 80,
   "metadata": {},
   "outputs": [
    {
     "name": "stdout",
     "output_type": "stream",
     "text": [
      "P(R|Doritos): 0.7307692307692308\n",
      "P(Rc|Doritos): 0.20952296111531782\n",
      "0.9402921918845486\n"
     ]
    }
   ],
   "source": [
    "P_DoritosDadoR = tabela_treinamento_relevante_filtrado['doritos']\n",
    "P_Doritos = tabela_treinamento_filtrado['doritos']\n",
    "P_RDadoDoritos = P_DoritosDadoR * P_R / P_Doritos\n",
    "print('P(R|Doritos):',P_RDadoDoritos)\n",
    "\n",
    "P_DoritosDadoRc = tabela_treinamento_irrelevante_filtrado['doritos']\n",
    "P_RcDadoDoritos = P_DoritosDadoRc * P_Rc / P_Doritos\n",
    "print('P(Rc|Doritos):',P_RcDadoDoritos)\n",
    "\n",
    "# print(P_DoritosDadoRc)\n",
    "# print(P_DoritosDadoR)\n",
    "print(P_RDadoDoritos+P_RcDadoDoritos)\n"
   ]
  },
  {
   "cell_type": "code",
   "execution_count": 81,
   "metadata": {},
   "outputs": [
    {
     "name": "stdout",
     "output_type": "stream",
     "text": [
      "P(R|Comer): 0.631578947368421\n",
      "P(Rc|Comer): 0.33450156949989335\n",
      "0.9660805168683144\n"
     ]
    }
   ],
   "source": [
    "P_ComerDadoR = tabela_treinamento_relevante_filtrado['comer']\n",
    "P_Comer = tabela_treinamento_filtrado['comer']\n",
    "P_RDadoComer = P_ComerDadoR * P_R / P_Comer\n",
    "print('P(R|Comer):',P_RDadoComer)\n",
    "\n",
    "P_ComerDadoRc = tabela_treinamento_irrelevante_filtrado['comer']\n",
    "P_RcDadoComer = P_ComerDadoRc * P_Rc / P_Comer\n",
    "print('P(Rc|Comer):',P_RcDadoComer)\n",
    "\n",
    "# print(P_ComerDadoRc)\n",
    "# print(P_ComerDadoR)\n",
    "print(P_RDadoComer+P_RcDadoComer)\n"
   ]
  },
  {
   "cell_type": "code",
   "execution_count": 82,
   "metadata": {},
   "outputs": [
    {
     "name": "stdout",
     "output_type": "stream",
     "text": [
      "P(R|Cheiro): 0.16666666666666666\n",
      "P(Rc|Cheiro): 0.7566106929164254\n",
      "0.923277359583092\n"
     ]
    }
   ],
   "source": [
    "P_CheiroDadoR = tabela_treinamento_relevante_filtrado['cheiro']\n",
    "P_Cheiro = tabela_treinamento_filtrado['cheiro']\n",
    "P_RDadoCheiro = P_CheiroDadoR * P_R / P_Cheiro\n",
    "print('P(R|Cheiro):',P_RDadoCheiro)\n",
    "\n",
    "P_CheiroDadoRc = tabela_treinamento_irrelevante_filtrado['cheiro']\n",
    "P_RcDadoCheiro = P_CheiroDadoRc * P_Rc / P_Cheiro\n",
    "print('P(Rc|Cheiro):',P_RcDadoCheiro)\n",
    "\n",
    "# print(P_CheiroDadoRc)\n",
    "# print(P_CheiroDadoR)\n",
    "print(P_RDadoCheiro+P_RcDadoCheiro)\n"
   ]
  },
  {
   "cell_type": "code",
   "execution_count": 83,
   "metadata": {},
   "outputs": [
    {
     "name": "stdout",
     "output_type": "stream",
     "text": [
      "P(R|Salgadinho): 0.7777777777777778\n",
      "P(Rc|Salgadinho): 0.2017628514443801\n",
      "0.9795406292221579\n"
     ]
    }
   ],
   "source": [
    "P_SalgadinhoDadoR = tabela_treinamento_relevante_filtrado['salgadinho']\n",
    "P_Salgadinho = tabela_treinamento_filtrado['salgadinho']\n",
    "P_RDadoSalgadinho = P_SalgadinhoDadoR * P_R / P_Salgadinho\n",
    "print('P(R|Salgadinho):',P_RDadoSalgadinho)\n",
    "\n",
    "P_SalgadinhoDadoRc = tabela_treinamento_irrelevante_filtrado['salgadinho']\n",
    "P_RcDadoSalgadinho = P_SalgadinhoDadoRc * P_Rc / P_Salgadinho\n",
    "print('P(Rc|Salgadinho):',P_RcDadoSalgadinho)\n",
    "\n",
    "# print(P_SalgadinhoDadoRc)\n",
    "# print(P_SalgadinhoDadoR)\n",
    "print(P_RDadoSalgadinho+P_RcDadoSalgadinho)\n"
   ]
  },
  {
   "cell_type": "code",
   "execution_count": null,
   "metadata": {},
   "outputs": [],
   "source": []
  },
  {
   "cell_type": "markdown",
   "metadata": {},
   "source": [
    "___\n",
    "### Verificando a performance do Classificador\n",
    "\n",
    "Agora você deve testar o seu classificador com a base de Testes."
   ]
  },
  {
   "cell_type": "code",
   "execution_count": null,
   "metadata": {},
   "outputs": [],
   "source": []
  },
  {
   "cell_type": "code",
   "execution_count": null,
   "metadata": {},
   "outputs": [],
   "source": []
  },
  {
   "cell_type": "code",
   "execution_count": null,
   "metadata": {},
   "outputs": [],
   "source": []
  },
  {
   "cell_type": "markdown",
   "metadata": {},
   "source": [
    "___\n",
    "### Concluindo"
   ]
  },
  {
   "cell_type": "code",
   "execution_count": null,
   "metadata": {},
   "outputs": [],
   "source": []
  },
  {
   "cell_type": "code",
   "execution_count": null,
   "metadata": {},
   "outputs": [],
   "source": []
  },
  {
   "cell_type": "markdown",
   "metadata": {},
   "source": [
    "___\n",
    "## Aperfeiçoamento:\n",
    "\n",
    "Os trabalhos vão evoluir em conceito dependendo da quantidade de itens avançados:\n",
    "\n",
    "* Limpar: \\n, :, \", ', (, ), etc SEM remover emojis\n",
    "* Corrigir separação de espaços entre palavras e emojis ou entre emojis e emojis\n",
    "* Propor outras limpezas e transformações que não afetem a qualidade da informação ou classificação\n",
    "* Criar categorias intermediárias de relevância baseadas na probabilidade: ex.: muito relevante, relevante, neutro, irrelevante, muito irrelevante (3 categorias: C, mais categorias conta para B)\n",
    "* Explicar por que não posso usar o próprio classificador para gerar mais amostras de treinamento\n",
    "* Propor diferentes cenários para Naïve Bayes fora do contexto do projeto\n",
    "* Sugerir e explicar melhorias reais com indicações concretas de como implementar (indicar como fazer e indicar material de pesquisa)\n",
    "* Montar um dashboard que realiza análise de sentimento e visualiza estes dados"
   ]
  },
  {
   "cell_type": "markdown",
   "metadata": {},
   "source": [
    "___\n",
    "## Referências"
   ]
  },
  {
   "cell_type": "markdown",
   "metadata": {},
   "source": [
    "[Naive Bayes and Text Classification](https://arxiv.org/pdf/1410.5329.pdf)  **Mais completo**\n",
    "\n",
    "[A practical explanation of a Naive Bayes Classifier](https://monkeylearn.com/blog/practical-explanation-naive-bayes-classifier/) **Mais simples**"
   ]
  },
  {
   "cell_type": "code",
   "execution_count": null,
   "metadata": {},
   "outputs": [],
   "source": []
  },
  {
   "cell_type": "code",
   "execution_count": 84,
   "metadata": {},
   "outputs": [
    {
     "name": "stdout",
     "output_type": "stream",
     "text": [
      "com\n"
     ]
    }
   ],
   "source": [
    "string = 'comendo'\n",
    "print(string[:-4])"
   ]
  },
  {
   "cell_type": "code",
   "execution_count": null,
   "metadata": {},
   "outputs": [],
   "source": []
  }
 ],
 "metadata": {
  "kernelspec": {
   "display_name": "Python 3",
   "language": "python",
   "name": "python3"
  },
  "language_info": {
   "codemirror_mode": {
    "name": "ipython",
    "version": 3
   },
   "file_extension": ".py",
   "mimetype": "text/x-python",
   "name": "python",
   "nbconvert_exporter": "python",
   "pygments_lexer": "ipython3",
   "version": "3.7.4"
  }
 },
 "nbformat": 4,
 "nbformat_minor": 4
}
