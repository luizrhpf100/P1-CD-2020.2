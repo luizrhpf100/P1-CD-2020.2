{
 "cells": [
  {
   "cell_type": "markdown",
   "metadata": {},
   "source": [
    "# Projeto 1 - Ciência dos Dados"
   ]
  },
  {
   "cell_type": "markdown",
   "metadata": {},
   "source": [
    "Nome: Luiz Ricardo Hardman Paranhos\n",
    "\n",
    "Nome: Matheus Kwon"
   ]
  },
  {
   "cell_type": "markdown",
   "metadata": {},
   "source": [
    "**Atenção:** Serão permitidos grupos de três pessoas, mas com uma rubrica mais exigente. Grupos deste tamanho precisarão fazer um questionário de avaliação de trabalho em equipe"
   ]
  },
  {
   "cell_type": "markdown",
   "metadata": {},
   "source": [
    "___\n",
    "Carregando algumas bibliotecas:"
   ]
  },
  {
   "cell_type": "code",
   "execution_count": 184,
   "metadata": {},
   "outputs": [],
   "source": [
    "%matplotlib inline\n",
    "import pandas as pd\n",
    "import matplotlib.pyplot as plt\n",
    "import numpy as np\n",
    "import os"
   ]
  },
  {
   "cell_type": "markdown",
   "metadata": {},
   "source": [
    "**Em `filename`, coloque o nome do seu arquivo de dados!**"
   ]
  },
  {
   "cell_type": "code",
   "execution_count": 185,
   "metadata": {
    "scrolled": false
   },
   "outputs": [
    {
     "name": "stdout",
     "output_type": "stream",
     "text": [
      "Encontrei o arquivo cheetos.xlsx, tudo certo para prosseguir com a prova!\n"
     ]
    }
   ],
   "source": [
    "import os\n",
    "\n",
    "filename = 'cheetos.xlsx'\n",
    "if filename in os.listdir():\n",
    "    print(f'Encontrei o arquivo {filename}, tudo certo para prosseguir com a prova!')\n",
    "else:\n",
    "    print(f'Não encontrei o arquivo {filename} aqui no diretório {os.getcwd()}, será que você não baixou o arquivo?')"
   ]
  },
  {
   "cell_type": "markdown",
   "metadata": {},
   "source": [
    "Carregando a base de dados com os tweets classificados como relevantes e não relevantes:"
   ]
  },
  {
   "cell_type": "code",
   "execution_count": 186,
   "metadata": {},
   "outputs": [
    {
     "data": {
      "text/html": [
       "<div>\n",
       "<style scoped>\n",
       "    .dataframe tbody tr th:only-of-type {\n",
       "        vertical-align: middle;\n",
       "    }\n",
       "\n",
       "    .dataframe tbody tr th {\n",
       "        vertical-align: top;\n",
       "    }\n",
       "\n",
       "    .dataframe thead th {\n",
       "        text-align: right;\n",
       "    }\n",
       "</style>\n",
       "<table border=\"1\" class=\"dataframe\">\n",
       "  <thead>\n",
       "    <tr style=\"text-align: right;\">\n",
       "      <th></th>\n",
       "      <th>Treinamento</th>\n",
       "      <th>relevancia</th>\n",
       "    </tr>\n",
       "  </thead>\n",
       "  <tbody>\n",
       "    <tr>\n",
       "      <td>0</td>\n",
       "      <td>@eaipaixao_ cheetos obv</td>\n",
       "      <td>0</td>\n",
       "    </tr>\n",
       "    <tr>\n",
       "      <td>1</td>\n",
       "      <td>@giovannapinto mano eu fui comprar 2 cheetos e...</td>\n",
       "      <td>0</td>\n",
       "    </tr>\n",
       "    <tr>\n",
       "      <td>2</td>\n",
       "      <td>@zabele__ só tenho cheetos</td>\n",
       "      <td>0</td>\n",
       "    </tr>\n",
       "    <tr>\n",
       "      <td>3</td>\n",
       "      <td>@lilizvante cheetos, old\\nhttps://t.co/atamf2woj7</td>\n",
       "      <td>0</td>\n",
       "    </tr>\n",
       "    <tr>\n",
       "      <td>4</td>\n",
       "      <td>@biaventura14 kkkkkkkkkkkkkkkkkkkkk cheetos ve...</td>\n",
       "      <td>0</td>\n",
       "    </tr>\n",
       "  </tbody>\n",
       "</table>\n",
       "</div>"
      ],
      "text/plain": [
       "                                         Treinamento  relevancia\n",
       "0                            @eaipaixao_ cheetos obv           0\n",
       "1  @giovannapinto mano eu fui comprar 2 cheetos e...           0\n",
       "2                         @zabele__ só tenho cheetos           0\n",
       "3  @lilizvante cheetos, old\\nhttps://t.co/atamf2woj7           0\n",
       "4  @biaventura14 kkkkkkkkkkkkkkkkkkkkk cheetos ve...           0"
      ]
     },
     "execution_count": 186,
     "metadata": {},
     "output_type": "execute_result"
    }
   ],
   "source": [
    "train = pd.read_excel(filename)\n",
    "train.head(5)"
   ]
  },
  {
   "cell_type": "code",
   "execution_count": 187,
   "metadata": {},
   "outputs": [
    {
     "data": {
      "text/html": [
       "<div>\n",
       "<style scoped>\n",
       "    .dataframe tbody tr th:only-of-type {\n",
       "        vertical-align: middle;\n",
       "    }\n",
       "\n",
       "    .dataframe tbody tr th {\n",
       "        vertical-align: top;\n",
       "    }\n",
       "\n",
       "    .dataframe thead th {\n",
       "        text-align: right;\n",
       "    }\n",
       "</style>\n",
       "<table border=\"1\" class=\"dataframe\">\n",
       "  <thead>\n",
       "    <tr style=\"text-align: right;\">\n",
       "      <th></th>\n",
       "      <th>Teste</th>\n",
       "      <th>relevancia</th>\n",
       "    </tr>\n",
       "  </thead>\n",
       "  <tbody>\n",
       "    <tr>\n",
       "      <td>0</td>\n",
       "      <td>sou do tipo que quando tá conversando com algu...</td>\n",
       "      <td>0</td>\n",
       "    </tr>\n",
       "    <tr>\n",
       "      <td>1</td>\n",
       "      <td>att fresquinha de flaming hot cheetos!!!! http...</td>\n",
       "      <td>0</td>\n",
       "    </tr>\n",
       "    <tr>\n",
       "      <td>2</td>\n",
       "      <td>me entupindo de cheetos enquanto vejo tapas e ...</td>\n",
       "      <td>0</td>\n",
       "    </tr>\n",
       "    <tr>\n",
       "      <td>3</td>\n",
       "      <td>cheetos ou doritos https://t.co/caytqjylnp</td>\n",
       "      <td>0</td>\n",
       "    </tr>\n",
       "    <tr>\n",
       "      <td>4</td>\n",
       "      <td>mas quem colocou o cheetos na minha tml hoje ?</td>\n",
       "      <td>0</td>\n",
       "    </tr>\n",
       "  </tbody>\n",
       "</table>\n",
       "</div>"
      ],
      "text/plain": [
       "                                               Teste  relevancia\n",
       "0  sou do tipo que quando tá conversando com algu...           0\n",
       "1  att fresquinha de flaming hot cheetos!!!! http...           0\n",
       "2  me entupindo de cheetos enquanto vejo tapas e ...           0\n",
       "3         cheetos ou doritos https://t.co/caytqjylnp           0\n",
       "4     mas quem colocou o cheetos na minha tml hoje ?           0"
      ]
     },
     "execution_count": 187,
     "metadata": {},
     "output_type": "execute_result"
    }
   ],
   "source": [
    "test = pd.read_excel(filename, sheet_name = 'Teste')\n",
    "test.head(5)"
   ]
  },
  {
   "cell_type": "markdown",
   "metadata": {},
   "source": [
    "___\n",
    "## Classificador automático de sentimento\n"
   ]
  },
  {
   "cell_type": "markdown",
   "metadata": {},
   "source": [
    "Faça aqui uma descrição do seu produto e o que considerou como relevante ou não relevante na classificação dos tweets.\n",
    "\n",
    "- Relevante: informação da qual a empresa pode ganhar dinheiro\n",
    "- Irrelevante: resto"
   ]
  },
  {
   "cell_type": "markdown",
   "metadata": {},
   "source": [
    "___\n",
    "### Montando um Classificador Naive-Bayes\n",
    "\n",
    "Considerando apenas as mensagens da planilha Treinamento, ensine  seu classificador."
   ]
  },
  {
   "cell_type": "code",
   "execution_count": 188,
   "metadata": {},
   "outputs": [],
   "source": [
    "train['relevancia'] = train['relevancia'].astype('category')\n",
    "train.relevancia.cat.categories = ['irrelevante', 'relevante']"
   ]
  },
  {
   "cell_type": "code",
   "execution_count": 189,
   "metadata": {},
   "outputs": [],
   "source": [
    "# https://docs.python.org/3/library/re.html#\n",
    "import re \n",
    "\n",
    "\n",
    "def cleanup(text):\n",
    "    \"\"\"\n",
    "        Função de limpeza muito simples que troca alguns sinais básicos por espaços\n",
    "    \"\"\"\n",
    "    #import string\n",
    "    punctuation = '[!-.:?;/,_@¿]' # Note que os sinais [] são delimitadores de um conjunto.\n",
    "    pattern = re.compile(punctuation)\n",
    "    text_subbed = re.sub(pattern, '', text)\n",
    "    return text_subbed\n",
    "\n",
    "def cleanup_enter(text):\n",
    "    punctuation = '\\n'\n",
    "    pattern = re.compile(punctuation)\n",
    "    text_subbed = re.sub(pattern, ' ', text)\n",
    "    return text_subbed\n",
    "\n",
    "def deEmojify(text):\n",
    "    regrex_pattern = re.compile(pattern = \"[\"\n",
    "        u\"\\U0001F600-\\U0001F64F\"  # emoticons\n",
    "        u\"\\U0001F300-\\U0001F5FF\"  # symbols & pictographs\n",
    "        u\"\\U0001F680-\\U0001F6FF\"  # transport & map symbols\n",
    "        u\"\\U0001F1E0-\\U0001F1FF\"  # flags (iOS)\n",
    "                            \"]+\", flags = re.UNICODE)\n",
    "    return regrex_pattern.sub(r'',text)"
   ]
  },
  {
   "cell_type": "code",
   "execution_count": 190,
   "metadata": {
    "scrolled": true
   },
   "outputs": [],
   "source": [
    "# String com todas as palavras\n",
    "tweets_treinamento_raw = ''\n",
    "for tweet in train.Treinamento:\n",
    "    tweets_treinamento_raw = tweets_treinamento_raw + ' ' + tweet\n",
    "tweets_treinamento = deEmojify(cleanup_enter(cleanup(tweets_treinamento_raw.lower())))"
   ]
  },
  {
   "cell_type": "code",
   "execution_count": 191,
   "metadata": {},
   "outputs": [],
   "source": [
    "# String com os relevantes\n",
    "filtro_relevante_train = train.relevancia == 'relevante'\n",
    "treinamento_relevante = train.loc[filtro_relevante_train,:]\n",
    "\n",
    "tweets_relevantes = ''\n",
    "for tweet in treinamento_relevante.Treinamento:\n",
    "    tweets_relevantes = tweets_relevantes + ' ' + tweet\n",
    "\n",
    "    \n",
    "treinamento_relevante = deEmojify(cleanup_enter(cleanup(tweets_relevantes.lower())))"
   ]
  },
  {
   "cell_type": "code",
   "execution_count": 192,
   "metadata": {},
   "outputs": [],
   "source": [
    "# String com os irrelevantes\n",
    "filtro_irrelevante_train = train.relevancia == 'irrelevante'\n",
    "treinamento_irrelevante = train.loc[filtro_irrelevante_train,:]\n",
    "\n",
    "tweets_irrelevantes = ''\n",
    "for tweet in treinamento_irrelevante.Treinamento:\n",
    "    tweets_irrelevantes = tweets_irrelevantes + ' ' + tweet\n",
    "\n",
    "    \n",
    "treinamento_irrelevante = deEmojify(cleanup_enter(cleanup(tweets_irrelevantes.lower())))"
   ]
  },
  {
   "cell_type": "code",
   "execution_count": 193,
   "metadata": {},
   "outputs": [],
   "source": [
    "# Criando lista e séries a partir das strings\n",
    "tweets_treinamento_lista = tweets_treinamento.split()\n",
    "treinamento_relevante_lista = treinamento_relevante.split()\n",
    "treinamento_irrelevante_lista = treinamento_irrelevante.split()\n",
    "\n",
    "serie_treinamento = pd.Series(tweets_treinamento_lista)\n",
    "serie_treinamento_relevante = pd.Series(treinamento_relevante_lista)\n",
    "serie_treinamento_irrelevante = pd.Series(treinamento_irrelevante_lista)"
   ]
  },
  {
   "cell_type": "code",
   "execution_count": 194,
   "metadata": {},
   "outputs": [
    {
     "data": {
      "text/plain": [
       "cheetos               297\n",
       "de                    171\n",
       "e                     116\n",
       "o                      81\n",
       "um                     81\n",
       "                     ... \n",
       "cookies                 1\n",
       "juntando                1\n",
       "httpstcoigrqb3suxa      1\n",
       "iivxleriez              1\n",
       "vamos                   1\n",
       "Length: 1432, dtype: int64"
      ]
     },
     "execution_count": 194,
     "metadata": {},
     "output_type": "execute_result"
    }
   ],
   "source": [
    "tabela_treinamento = serie_treinamento.value_counts()\n",
    "tabela_treinamento"
   ]
  },
  {
   "cell_type": "code",
   "execution_count": 195,
   "metadata": {},
   "outputs": [
    {
     "data": {
      "text/plain": [
       "cheetos     55\n",
       "de          39\n",
       "é           14\n",
       "um          13\n",
       "o           13\n",
       "            ..\n",
       "elma         1\n",
       "baratos      1\n",
       "faz          1\n",
       "agridoce     1\n",
       "face         1\n",
       "Length: 252, dtype: int64"
      ]
     },
     "execution_count": 195,
     "metadata": {},
     "output_type": "execute_result"
    }
   ],
   "source": [
    "tabela_treinamento_relevante = serie_treinamento_relevante.value_counts()\n",
    "tabela_treinamento_relevante"
   ]
  },
  {
   "cell_type": "code",
   "execution_count": 196,
   "metadata": {},
   "outputs": [
    {
     "data": {
      "text/plain": [
       "cheetos               0.099832\n",
       "é                     0.020168\n",
       "não                   0.010420\n",
       "requeijão             0.010420\n",
       "tem                   0.008739\n",
       "                        ...   \n",
       "juntando              0.000336\n",
       "httpstcoigrqb3suxa    0.000336\n",
       "iivxleriez            0.000336\n",
       "coca🥰🤤                0.000336\n",
       "vamos                 0.000336\n",
       "Length: 1420, dtype: float64"
      ]
     },
     "execution_count": 196,
     "metadata": {},
     "output_type": "execute_result"
    }
   ],
   "source": [
    "# Removendo stop words da lista de todas as palavras\n",
    "tweets_treinamento_stopwords_lista = []\n",
    "for palavra in tweets_treinamento_lista:\n",
    "    x = 0\n",
    "    if palavra == 'da' or palavra == 'no' or palavra == 'eu' or palavra == 'de' or palavra == 'e' or palavra == 'o' or palavra == 'um' or palavra == 'a' or palavra == 'que' or palavra == 'com' or palavra == 'pra' or palavra == 'do':\n",
    "        x = 1\n",
    "    if x == 0:\n",
    "        tweets_treinamento_stopwords_lista.append(palavra)\n",
    "\n",
    "serie_treinamento_filtrado = pd.Series(tweets_treinamento_stopwords_lista)\n",
    "tabela_treinamento_filtrado = serie_treinamento_filtrado.value_counts(True)\n",
    "tabela_treinamento_filtrado"
   ]
  },
  {
   "cell_type": "code",
   "execution_count": 197,
   "metadata": {},
   "outputs": [
    {
     "data": {
      "text/plain": [
       "cheetos       0.125571\n",
       "é             0.031963\n",
       "requeijão     0.027397\n",
       "comer         0.025114\n",
       "vontade       0.022831\n",
       "                ...   \n",
       "agora         0.002283\n",
       "consigo       0.002283\n",
       "percebendo    0.002283\n",
       "também        0.002283\n",
       "escolheria    0.002283\n",
       "Length: 240, dtype: float64"
      ]
     },
     "execution_count": 197,
     "metadata": {},
     "output_type": "execute_result"
    }
   ],
   "source": [
    "# Removendo stop words da lista de todas as palavras relevantes\n",
    "treinamento_relevante_stopwords_lista = []\n",
    "for palavra in treinamento_relevante_lista:\n",
    "    x = 0\n",
    "    if palavra == 'da' or palavra == 'no' or palavra == 'eu' or palavra == 'de' or palavra == 'e' or palavra == 'o' or palavra == 'um' or palavra == 'a' or palavra == 'que' or palavra == 'com' or palavra == 'pra' or palavra == 'do':\n",
    "        x = 1\n",
    "    if x == 0:\n",
    "        treinamento_relevante_stopwords_lista.append(palavra)\n",
    "\n",
    "serie_treinamento_relevante_filtrado = pd.Series(treinamento_relevante_stopwords_lista)\n",
    "tabela_treinamento_relevante_filtrado = serie_treinamento_relevante_filtrado.value_counts(True)\n",
    "tabela_treinamento_relevante_filtrado"
   ]
  },
  {
   "cell_type": "code",
   "execution_count": 198,
   "metadata": {},
   "outputs": [
    {
     "data": {
      "text/plain": [
       "cheetos               0.095388\n",
       "é                     0.018132\n",
       "não                   0.011037\n",
       "tem                   0.008277\n",
       "doritos               0.007489\n",
       "                        ...   \n",
       "httpstcoigrqb3suxa    0.000394\n",
       "juntando              0.000394\n",
       "cookies               0.000394\n",
       "tempo                 0.000394\n",
       "vamos                 0.000394\n",
       "Length: 1317, dtype: float64"
      ]
     },
     "execution_count": 198,
     "metadata": {},
     "output_type": "execute_result"
    }
   ],
   "source": [
    "# Removendo stop words da lista de todas as palavras irrelevantes\n",
    "treinamento_irrelevante_stopwords_lista = []\n",
    "for palavra in treinamento_irrelevante_lista:\n",
    "    x = 0\n",
    "    if palavra == 'da' or palavra == 'no' or palavra == 'eu' or palavra == 'de' or palavra == 'e' or palavra == 'o' or palavra == 'um' or palavra == 'a' or palavra == 'que' or palavra == 'com' or palavra == 'pra' or palavra == 'do':\n",
    "        x = 1\n",
    "    if x == 0:\n",
    "        treinamento_irrelevante_stopwords_lista.append(palavra)\n",
    "\n",
    "serie_treinamento_irrelevante_filtrado = pd.Series(treinamento_irrelevante_stopwords_lista)\n",
    "tabela_treinamento_irrelevante_filtrado = serie_treinamento_irrelevante_filtrado.value_counts(True)\n",
    "tabela_treinamento_irrelevante_filtrado"
   ]
  },
  {
   "cell_type": "code",
   "execution_count": 200,
   "metadata": {},
   "outputs": [
    {
     "name": "stdout",
     "output_type": "stream",
     "text": [
      "0.14722689075630252\n",
      "0.3870967741935484\n",
      "0.6129032258064515\n"
     ]
    }
   ],
   "source": [
    "P_R = len(treinamento_relevante_stopwords_lista) / len(tweets_treinamento_stopwords_lista)\n",
    "print(P_R)\n",
    "\n",
    "P_RequeijaoDadoR = tabela_treinamento_relevante_filtrado['requeijão']\n",
    "P_Requeijao = tabela_treinamento_filtrado['requeijão']\n",
    "P_RDadoRequeijao = P_RequeijaoDadoR * P_R / P_Requeijao\n",
    "print(P_RDadoRequeijao)\n",
    "\n",
    "P_Rc = 1 - P_R\n",
    "P_RequeijaoDadoRc = tabela_treinamento_irrelevante_filtrado['requeijão']\n",
    "P_RcDadoRequeijao = P_RequeijaoDadoRc * P_Rc / P_Requeijao\n",
    "print(P_RcDadoRequeijao)"
   ]
  },
  {
   "cell_type": "markdown",
   "metadata": {},
   "source": [
    "___\n",
    "### Verificando a performance do Classificador\n",
    "\n",
    "Agora você deve testar o seu classificador com a base de Testes."
   ]
  },
  {
   "cell_type": "code",
   "execution_count": null,
   "metadata": {},
   "outputs": [],
   "source": []
  },
  {
   "cell_type": "code",
   "execution_count": null,
   "metadata": {},
   "outputs": [],
   "source": []
  },
  {
   "cell_type": "code",
   "execution_count": null,
   "metadata": {},
   "outputs": [],
   "source": []
  },
  {
   "cell_type": "markdown",
   "metadata": {},
   "source": [
    "___\n",
    "### Concluindo"
   ]
  },
  {
   "cell_type": "code",
   "execution_count": null,
   "metadata": {},
   "outputs": [],
   "source": []
  },
  {
   "cell_type": "code",
   "execution_count": null,
   "metadata": {},
   "outputs": [],
   "source": []
  },
  {
   "cell_type": "markdown",
   "metadata": {},
   "source": [
    "___\n",
    "## Aperfeiçoamento:\n",
    "\n",
    "Os trabalhos vão evoluir em conceito dependendo da quantidade de itens avançados:\n",
    "\n",
    "* Limpar: \\n, :, \", ', (, ), etc SEM remover emojis\n",
    "* Corrigir separação de espaços entre palavras e emojis ou entre emojis e emojis\n",
    "* Propor outras limpezas e transformações que não afetem a qualidade da informação ou classificação\n",
    "* Criar categorias intermediárias de relevância baseadas na probabilidade: ex.: muito relevante, relevante, neutro, irrelevante, muito irrelevante (3 categorias: C, mais categorias conta para B)\n",
    "* Explicar por que não posso usar o próprio classificador para gerar mais amostras de treinamento\n",
    "* Propor diferentes cenários para Naïve Bayes fora do contexto do projeto\n",
    "* Sugerir e explicar melhorias reais com indicações concretas de como implementar (indicar como fazer e indicar material de pesquisa)\n",
    "* Montar um dashboard que realiza análise de sentimento e visualiza estes dados"
   ]
  },
  {
   "cell_type": "markdown",
   "metadata": {},
   "source": [
    "___\n",
    "## Referências"
   ]
  },
  {
   "cell_type": "markdown",
   "metadata": {},
   "source": [
    "[Naive Bayes and Text Classification](https://arxiv.org/pdf/1410.5329.pdf)  **Mais completo**\n",
    "\n",
    "[A practical explanation of a Naive Bayes Classifier](https://monkeylearn.com/blog/practical-explanation-naive-bayes-classifier/) **Mais simples**"
   ]
  },
  {
   "cell_type": "code",
   "execution_count": null,
   "metadata": {},
   "outputs": [],
   "source": []
  }
 ],
 "metadata": {
  "kernelspec": {
   "display_name": "Python 3",
   "language": "python",
   "name": "python3"
  },
  "language_info": {
   "codemirror_mode": {
    "name": "ipython",
    "version": 3
   },
   "file_extension": ".py",
   "mimetype": "text/x-python",
   "name": "python",
   "nbconvert_exporter": "python",
   "pygments_lexer": "ipython3",
   "version": "3.7.4"
  }
 },
 "nbformat": 4,
 "nbformat_minor": 4
}
