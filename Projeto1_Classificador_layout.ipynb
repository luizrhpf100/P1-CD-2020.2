{
 "cells": [
  {
   "cell_type": "markdown",
   "metadata": {},
   "source": [
    "# Projeto 1 - Ciência dos Dados"
   ]
  },
  {
   "cell_type": "markdown",
   "metadata": {},
   "source": [
    "Nome: Luiz Ricardo Hardman Paranhos\n",
    "\n",
    "Nome: Matheus Kwon"
   ]
  },
  {
   "cell_type": "markdown",
   "metadata": {},
   "source": [
    "**Atenção:** Serão permitidos grupos de três pessoas, mas com uma rubrica mais exigente. Grupos deste tamanho precisarão fazer um questionário de avaliação de trabalho em equipe"
   ]
  },
  {
   "cell_type": "markdown",
   "metadata": {},
   "source": [
    "___\n",
    "Carregando algumas bibliotecas:"
   ]
  },
  {
   "cell_type": "code",
   "execution_count": 48,
   "metadata": {},
   "outputs": [
    {
     "name": "stdout",
     "output_type": "stream",
     "text": [
      "Requirement already satisfied: emoji in c:\\users\\dell\\anaconda3\\lib\\site-packages (0.6.0)\n",
      "Note: you may need to restart the kernel to use updated packages.\n"
     ]
    }
   ],
   "source": [
    "pip install emoji"
   ]
  },
  {
   "cell_type": "code",
   "execution_count": 49,
   "metadata": {},
   "outputs": [],
   "source": [
    "%matplotlib inline\n",
    "import pandas as pd\n",
    "import matplotlib.pyplot as plt\n",
    "import numpy as np\n",
    "import os"
   ]
  },
  {
   "cell_type": "markdown",
   "metadata": {},
   "source": [
    "**Em `filename`, coloque o nome do seu arquivo de dados!**"
   ]
  },
  {
   "cell_type": "code",
   "execution_count": 50,
   "metadata": {
    "scrolled": false
   },
   "outputs": [
    {
     "name": "stdout",
     "output_type": "stream",
     "text": [
      "Encontrei o arquivo cheetos.xlsx, tudo certo para prosseguir com a prova!\n"
     ]
    }
   ],
   "source": [
    "import os\n",
    "\n",
    "filename = 'cheetos.xlsx'\n",
    "if filename in os.listdir():\n",
    "    print(f'Encontrei o arquivo {filename}, tudo certo para prosseguir com a prova!')\n",
    "else:\n",
    "    print(f'Não encontrei o arquivo {filename} aqui no diretório {os.getcwd()}, será que você não baixou o arquivo?')"
   ]
  },
  {
   "cell_type": "markdown",
   "metadata": {},
   "source": [
    "Carregando a base de dados com os tweets classificados como relevantes e não relevantes:"
   ]
  },
  {
   "cell_type": "code",
   "execution_count": 51,
   "metadata": {},
   "outputs": [
    {
     "data": {
      "text/html": [
       "<div>\n",
       "<style scoped>\n",
       "    .dataframe tbody tr th:only-of-type {\n",
       "        vertical-align: middle;\n",
       "    }\n",
       "\n",
       "    .dataframe tbody tr th {\n",
       "        vertical-align: top;\n",
       "    }\n",
       "\n",
       "    .dataframe thead th {\n",
       "        text-align: right;\n",
       "    }\n",
       "</style>\n",
       "<table border=\"1\" class=\"dataframe\">\n",
       "  <thead>\n",
       "    <tr style=\"text-align: right;\">\n",
       "      <th></th>\n",
       "      <th>Treinamento</th>\n",
       "      <th>relevancia</th>\n",
       "    </tr>\n",
       "  </thead>\n",
       "  <tbody>\n",
       "    <tr>\n",
       "      <td>0</td>\n",
       "      <td>@eaipaixao_ cheetos obv</td>\n",
       "      <td>2</td>\n",
       "    </tr>\n",
       "    <tr>\n",
       "      <td>1</td>\n",
       "      <td>@giovannapinto mano eu fui comprar 2 cheetos e...</td>\n",
       "      <td>2</td>\n",
       "    </tr>\n",
       "    <tr>\n",
       "      <td>2</td>\n",
       "      <td>@zabele__ só tenho cheetos</td>\n",
       "      <td>1</td>\n",
       "    </tr>\n",
       "    <tr>\n",
       "      <td>3</td>\n",
       "      <td>@lilizvante cheetos, old\\nhttps://t.co/atamf2woj7</td>\n",
       "      <td>1</td>\n",
       "    </tr>\n",
       "    <tr>\n",
       "      <td>4</td>\n",
       "      <td>@biaventura14 kkkkkkkkkkkkkkkkkkkkk cheetos ve...</td>\n",
       "      <td>2</td>\n",
       "    </tr>\n",
       "  </tbody>\n",
       "</table>\n",
       "</div>"
      ],
      "text/plain": [
       "                                         Treinamento  relevancia\n",
       "0                            @eaipaixao_ cheetos obv           2\n",
       "1  @giovannapinto mano eu fui comprar 2 cheetos e...           2\n",
       "2                         @zabele__ só tenho cheetos           1\n",
       "3  @lilizvante cheetos, old\\nhttps://t.co/atamf2woj7           1\n",
       "4  @biaventura14 kkkkkkkkkkkkkkkkkkkkk cheetos ve...           2"
      ]
     },
     "execution_count": 51,
     "metadata": {},
     "output_type": "execute_result"
    }
   ],
   "source": [
    "train = pd.read_excel(filename)\n",
    "train.head(5)"
   ]
  },
  {
   "cell_type": "code",
   "execution_count": 52,
   "metadata": {},
   "outputs": [
    {
     "data": {
      "text/html": [
       "<div>\n",
       "<style scoped>\n",
       "    .dataframe tbody tr th:only-of-type {\n",
       "        vertical-align: middle;\n",
       "    }\n",
       "\n",
       "    .dataframe tbody tr th {\n",
       "        vertical-align: top;\n",
       "    }\n",
       "\n",
       "    .dataframe thead th {\n",
       "        text-align: right;\n",
       "    }\n",
       "</style>\n",
       "<table border=\"1\" class=\"dataframe\">\n",
       "  <thead>\n",
       "    <tr style=\"text-align: right;\">\n",
       "      <th></th>\n",
       "      <th>Teste</th>\n",
       "      <th>relevancia</th>\n",
       "    </tr>\n",
       "  </thead>\n",
       "  <tbody>\n",
       "    <tr>\n",
       "      <td>0</td>\n",
       "      <td>sou do tipo que quando tá conversando com algu...</td>\n",
       "      <td>0</td>\n",
       "    </tr>\n",
       "    <tr>\n",
       "      <td>1</td>\n",
       "      <td>att fresquinha de flaming hot cheetos!!!! http...</td>\n",
       "      <td>1</td>\n",
       "    </tr>\n",
       "    <tr>\n",
       "      <td>2</td>\n",
       "      <td>me entupindo de cheetos enquanto vejo tapas e ...</td>\n",
       "      <td>1</td>\n",
       "    </tr>\n",
       "    <tr>\n",
       "      <td>3</td>\n",
       "      <td>cheetos ou doritos https://t.co/caytqjylnp</td>\n",
       "      <td>2</td>\n",
       "    </tr>\n",
       "    <tr>\n",
       "      <td>4</td>\n",
       "      <td>mas quem colocou o cheetos na minha tml hoje ?</td>\n",
       "      <td>2</td>\n",
       "    </tr>\n",
       "  </tbody>\n",
       "</table>\n",
       "</div>"
      ],
      "text/plain": [
       "                                               Teste  relevancia\n",
       "0  sou do tipo que quando tá conversando com algu...           0\n",
       "1  att fresquinha de flaming hot cheetos!!!! http...           1\n",
       "2  me entupindo de cheetos enquanto vejo tapas e ...           1\n",
       "3         cheetos ou doritos https://t.co/caytqjylnp           2\n",
       "4     mas quem colocou o cheetos na minha tml hoje ?           2"
      ]
     },
     "execution_count": 52,
     "metadata": {},
     "output_type": "execute_result"
    }
   ],
   "source": [
    "test = pd.read_excel(filename, sheet_name = 'Teste')\n",
    "test.head(5)"
   ]
  },
  {
   "cell_type": "markdown",
   "metadata": {},
   "source": [
    "___\n",
    "## Classificador automático de sentimento\n"
   ]
  },
  {
   "cell_type": "markdown",
   "metadata": {},
   "source": [
    "Faça aqui uma descrição do seu produto e o que considerou como relevante ou não relevante na classificação dos tweets.\n",
    "\n",
    "- Relevante: informação da qual a empresa pode ganhar dinheiro\n",
    "- Neutro: informações sobre o salgadinho cheetos, mas que não necessariamente interessa à empresa\n",
    "- Irrelevante: resto"
   ]
  },
  {
   "cell_type": "markdown",
   "metadata": {},
   "source": [
    "___\n",
    "### Montando um Classificador Naive-Bayes\n",
    "\n",
    "Considerando apenas as mensagens da planilha Treinamento, ensine  seu classificador."
   ]
  },
  {
   "cell_type": "code",
   "execution_count": 53,
   "metadata": {},
   "outputs": [],
   "source": [
    "train['relevancia'] = train['relevancia'].astype('category')\n",
    "train.relevancia.cat.categories = ['irrelevante', 'neutro', 'relevante']"
   ]
  },
  {
   "cell_type": "code",
   "execution_count": 54,
   "metadata": {},
   "outputs": [],
   "source": [
    "# https://docs.python.org/3/library/re.html#\n",
    "import functools\n",
    "import operator\n",
    "import re\n",
    "\n",
    "import emoji\n",
    "\n",
    "\n",
    "def cleanup(text):\n",
    "    \"\"\"\n",
    "        Função de limpeza muito simples que troca alguns sinais básicos por espaços\n",
    "    \"\"\"\n",
    "    #import string\n",
    "    punctuation = '[!-.:?;/,_@¿]' # Note que os sinais [] são delimitadores de um conjunto.\n",
    "    pattern = re.compile(punctuation)\n",
    "    text_subbed = re.sub(pattern, '', text)\n",
    "    return text_subbed\n",
    "\n",
    "def cleanup_enter(text):\n",
    "    punctuation = '\\n'\n",
    "    pattern = re.compile(punctuation)\n",
    "    text_subbed = re.sub(pattern, ' ', text)\n",
    "    return text_subbed\n",
    "\n",
    "def deEmojify(text):\n",
    "    # retirado do stackoverflow\n",
    "    em_split_emoji = emoji.get_emoji_regexp().split(text)\n",
    "    em_split_whitespace = [substr.split() for substr in em_split_emoji]\n",
    "    em_split = functools.reduce(operator.concat, em_split_whitespace)\n",
    "    p = ''\n",
    "    for separated in em_split:\n",
    "        p += separated + ' '\n",
    "    return p\n",
    "#    regrex_pattern = re.compile(pattern = \"[\"\n",
    "#        u\"\\U0001F600-\\U0001F64F\"  # emoticons\n",
    "#        u\"\\U0001F300-\\U0001F5FF\"  # symbols & pictographs\n",
    "#        u\"\\U0001F680-\\U0001F6FF\"  # transport & map symbols\n",
    "#        u\"\\U0001F1E0-\\U0001F1FF\"  # flags (iOS)\n",
    "#                            \"]+\", flags = re.UNICODE)\n",
    "#    return regrex_pattern.sub(r'',text)\n",
    "    \n",
    "\n",
    "def link(text):\n",
    "    text = re.sub(r'http\\S+', '', text, flags=re.MULTILINE)\n",
    "    text = re.sub(r'https\\S+', '', text, flags=re.MULTILINE)\n",
    "    text = re.sub(r'@\\S+', '', text, flags=re.MULTILINE)\n",
    "    return text"
   ]
  },
  {
   "cell_type": "code",
   "execution_count": 55,
   "metadata": {
    "scrolled": true
   },
   "outputs": [],
   "source": [
    "# String com todas as palavras\n",
    "tweets_treinamento_raw = ''\n",
    "for tweet in train.Treinamento:\n",
    "    tweets_treinamento_raw = tweets_treinamento_raw + ' ' + tweet\n",
    "tweets_treinamento = deEmojify(cleanup_enter(cleanup(link(tweets_treinamento_raw.lower()))))"
   ]
  },
  {
   "cell_type": "code",
   "execution_count": 56,
   "metadata": {},
   "outputs": [],
   "source": [
    "# String com os relevantes\n",
    "filtro_relevante_train = train.relevancia == 'relevante'\n",
    "treinamento_relevante = train.loc[filtro_relevante_train,:]\n",
    "\n",
    "tweets_relevantes = ''\n",
    "for tweet in treinamento_relevante.Treinamento:\n",
    "    tweets_relevantes = tweets_relevantes + ' ' + tweet\n",
    "\n",
    "treinamento_relevante = deEmojify(cleanup_enter(cleanup(link(tweets_relevantes.lower()))))"
   ]
  },
  {
   "cell_type": "code",
   "execution_count": 57,
   "metadata": {},
   "outputs": [
    {
     "data": {
      "text/plain": [
       "'@eaipaixao_ cheetos obv @giovannapinto mano eu fui comprar 2 cheetos e deu apenas 10$ @zabele__ só tenho cheetos @lilizvante cheetos, old https://t.co/atamf2woj7 @biaventura14 kkkkkkkkkkkkkkkkkkkkk cheetos vencido sabor requeijao 😋 onze da manhã e eu tô com vontade de comer cheetos de requeijão, cheguei senti o gosto desse salgadinho 🤤 🤤 @jotaro080 @nayoichinn fiscal de cabelo otaku q n sai do quarto e tem cheiro de cheetos nao me julgue pf 😭 😭 😭 😭 😭 @i4jeongbin salgadinho, cheetos/biscoito, biscoito e cream cracker. ficar sem ideia do q tweetar eh uma merda https://t.co/evdl9xbnvq @ifyoonki doritos e cheetos https://t.co/igrqb3suxa salgadinho, cheetos, biscoito, creme crac https://t.co/e8cjejr34x @detailszilberr prefere apple, sua lanchonete preferida é o starbucks, prefere cachorros, n gosta de cheetos, mudou o fix e é stan da amelie do nada uma vontade de comer cheetos de requeijão, eu não lembro de comer um desde que saí do cvp @laialpino o foda é que tem, mas é um bagulho tipo dolly e cheetos @gabfreestyleira cheetos de requeijão é meu preferido quase nao como mais isso, mas vou comprar só pra ter uns https://t.co/e5wx0bdjno https://t.co/ljeyrqtwh0 @eaipaixao_ cheetos, fandangos tem gosto de nada jão vi uma pessoa falando que o cheetos voltou a ter razão. se for vdd vou voltar a me entupir disso @marleyswift13 doritos over cheetos? @itsmemarsl ummm 90? 😳 no pero como 14¿¿ @toddybrasil @cheetosbrasil gosto de cheetos de requeijão... se rolar um mimo, voto nele... 😂 #toddyrealoficial algum feministo pra comprar um pacote de cheetos p mim ou um doritim 🥺 fandangos e cheetos https://t.co/qcr4cpdqew @sehopallet vei mas quem chama cheetos de salgadinho?????????????????? é biscoito eu nunca mais como cheetos sem pensar ... nql vontade de comer um cheetos saudades cheetos com molho agridoce @iamlescau ele vai vir pra cima como se tivesse um sacão de cheetos bola na frente dele nossa n aguento mais o cheiro da manteiga de coco q mainha comprou, sério. pra que esse aroma artificial de cheetos????? mt podre. me lembrou o vegan cheese da superbom q comprei uma vez... o próprio cheiro da morte eu amo cheetos @cavelinoflu @infinityasset sim, principalmente por insistência do cheetos man saudades de festinha de criança com coxinha, bolinha de queijo e brigadeiro à vontade. honestamente festinhas brasileiras dão de mil à zero nessas q só tem cheetos e doritos (nem é comida de verdade) impressionante como o cheetos tá caro. quero q os envolvidos vão tomar no cu @menerei10 ih ala o cheetos me matei treinando pra come cheetos com coca xau assistindo programa de culinária e comendo cheetos lua, só faltou o mozão @cherrykaspbrak_ cheetos eh tudo também, gosto do de requeijão cheetos e fandangos https://t.co/jg8j5omaee eu simplesmente não consigo levar a candidatura de joe biden a sério. por que? por causa de coisas tipo essa aqui. daria pra fazer uma thread gigante com exemplos. aquela mistura senil de alckmin com maia não antagoniza o cheetos humano. https://t.co/alwh7rmyr0 @gabfreestyleira cheetos amg tu pode votar em right now aq pfvv https://t.co/cwihpzpzac @aninha_mikhail mano a amora cheira cheetos cheetos tem gosto de farinha, ruffles tem gosto de gordura e doritos tem um gosto bizarro @goofancy cheetos &gt;&gt;&gt;&gt;&gt;&gt;&gt; doritos @callmenoth1ng nossa eu tava aqui d boa agora to com vontade d comer cheetos ;-; eu quero uma 5 batatinhas do cheetos, 3 colheradas de iogurte e 1 litro de suco. se vc não fazer as contas eu vou chamar a polícia. https://t.co/zvqay35ni4 @cookiewithmilku @iivxleriez flamin cheetos @jeonsnowy *****qual q é o melhor e pq o cheetos? concertei p vc ! @caicuiista é verdade tem uma aqui na rua lateral de casa e pelo menos eu não gosto do cheiro de cigarro muito menos de maconha mas é melhor q cheiro de mijo, cheetos vencido e lençol podre cenoura&amp;cheetos oferecimento bic ! cheetos é vida @jovembrown @vinheteiro kkkkkkkkkkkkk esse puto deve feder cheetos bola era tão boa a sensação de abrir o cheetos e pegar o tazo pra colecionar https://t.co/ai2y9sg2ga playstation:nescau xbox:mingau nitendo:cereal @mateuseis:pc @eimine77:cheetos (leve essa lista na zueira ok) é amigao vi aqui que vc ta comendo cheetos sabor queijo infelizmente vou ter que lhe acompanhar até a delegacia @tsu0y0 divide comigo ? 😓 eu divido meu cheetos ces conheciam? gosteiiii e mais saudável que cheetos em migosss. custou 3 dinheiros e tem de outros sabores também alo mae terra patrocina nois https://t.co/yxlxu3k0bl @thatsliceofpai i am a cheetos mascot @gagapetz pringles e cheetos esmurram doritos, se fosse o cheetos de queijo eu escolheria cheetos mas esse de requeijão é muito ruim meu deus https://t.co/0on0afgr4g doritos eh mt melhor que cheetos toda vez que o elias vai ao mercado ele compra cheetos e toddynho pra mim kkkkkk acho que ele não tem 2 filhos não, acho que tem 3 @lidiazuin comprando cheetos pra figir que é as minhoca cronos lá. eu ontem toda pipipi popopo quero fazer dieta eu hoje jantando 02 pães de alho e um pacote de cheetos azul ok 2020. você está louco e nostalgico cheetos requeijao com tazo @lilizvante cheetos, o laranja é o melhor @toddybrasil @cheetosbrasil cheetos é empresa grande e fico feliz pela manu com as parcerias @marotoduda @aninha_mikhail sim a patinha da amora cheira mto cheetos meu plano pra hoje era dormir tipo agr nesse horario ainda mais c essa chuvinha mas lembrei que o masterchef ja começou entao ja peguei cheetos paçoca refri agua e um cobertor pra assistir e ja to instalada aqui no sofa! depois da reuniao pensei agora vou tomar um nescau descansar meia hora e voltar pro relatorio. realidade: fui fazer ovo derrubei tudo no fogao em mim fui limpar me queimei chorei frustrada fui fazer frango pro almoço tava estragado e agora nao tem almoço e eu me acabei no cheetos cheetos requeijão https://t.co/dh5td4zatm @euduamaral nossa amiga é um cheetos versão 100% melhorada @dravizim meu voto vai na espera de vc violar o bem adquirido por ele para logo lhe apontar o dedo e gritar \" a safado, roubou meu cheetos\" @lc_albu puts mas sulista é chatao sao poucas excessoes, carioca chama cheetos de biscoito pra mim as coisas que voce disse sao efeitos colaterais é tudo por um brasil melhor 🙏 cheetos e doritos https://t.co/lbcbwglkql achei um cheetos da raphaela no armário kkkkk nem queria já ganhei 40 conto do cheetos 😻 🤣 eu não vou comer cheetos 1 da madrugada eu não vou comer cheetos 1 da madrugada eu não vou comer cheetos 1 da madrugada e minha bathian que ao invés de falar shih tzu fala cheetos kkk eu me acabo de rir com ela comer um cheetos de leve mais tarde almocei cheetos, gostaram? @_filo_sophia eu n consigo gostar de cheetos, sempre será minha última opção eu só queria um estoque de cheetos @_promisejjk pringles, doritos e cheetos 🥳 vontade de cheetos 🙄 😋 cheetos ou fandangos https://t.co/kkcbddtyw9 @itfalida por aqui 10cm de raiz e mto cheetos @__pjm95_ ai amg nunca comi mesmo é bom? duvido q seja melhor q cheetos a gente se mata no funcional pra comer cheetos de requeijão em paz 😌 @mall_vinicius pq so cheetos mano sai pra resolver umas coisas e esqueci de comprar meu cheetos, aiai @hiraibratt iansbshdisknanwnss vei sei lá eu tinha cheetos e tinha nutella e pensei c minha fossa de bosta(minha cabeça) pq n juntar os dois?? aí foi, juntei comi e ficou horrível @smuellert @gabriel65331788 @afonso556 @jeajns @g1 faço cheetos post @zascmo mario kart wii regular cheetos @manugavassiinfo vou forçar só por causa do cheetos msm @jeonsnowy doritos é bom, mas aquele cheetos laranja é melhor esqueci que ia pra câmara hiperbarica hoje, com mais 4 desafortunados, e mandei um pacote de cheetos antes. agora, graças ao meu vício em queijo, pessoas sofrerão com o cheiro por 90 minutos 😔 eu sou viciada em cheetos comprei um cheetos e um fandangos de 280g e comi tudo sozinha, gosto muito kkk. 🤤 @michelotto8legs olha o que acabou de sair do meu pacote de cheetos cheetos e doritos https://t.co/isexdktiui https://t.co/krqc7rentx gente eu sou mt idiota tipo sempre q eu vou no mercado pra comprar as coisas q eu quero eu fico com mt vergonha de passar no caixa pq eu compro tipo coca cola chocolate e cheetos ai eu sempre falo pra minha mãe mãe n tá precisando de nada não tipo um olho sal feijão sei la clairo - flamin\\' hot cheetos https://t.co/iqop4z2jyk @jeonsnowy pq cheetos fede dms @manuexbbb esse é em parceria com o cheetos. @gabfreestyleira doritos , não gosto de cheetos hehehe @coisasdeanimal @pauloguedesreal cheetos requeijão eh vida! my pleasure guilty 😬 @cheetos_yow um um um @patrickmaia @patrickmaia quebra o saco todo, abre o tempero e joga nele. daí sacode e come. isso é o cheetos roots! rango barato de moleque que contava trocado pra comprar um cigarro, um vinho e ainda um rango pra não gorfar o vinho. @kkkk_i0 nunc amor kkkkk o meu parece um cheetos de ondinha o tamanho dessa publi juntando toddy e cheetos, ela faz o milhão dela 🗣 🗣 @cheetosbrasil tô muito ansioso pro cheetos halloween chegar!! 🤩 🎃 mds eu só queria comer bolo e cheetos de requeijão @mosellinott simmm!! comprei um cheetos esse find e veio @linoz0ne hot cheetos minho is sexy too esta beta de bronze pantone cheetos queijo tem de estar sempre a dar a sua opinião num tom superior aos outros? #bbtvi eu não acredito q uma criança aleatória chegou em mim meteu a mão no meu cheetos e cmç a comer acabei de comprar joão com um pacote enorme de cheetos comi 3 pacotes de cheetos e to comendo 1 de fandangos kkkk o jeito que a sorn ama o efeito de cheetos @fishstick_135 doritos fritos cheetos existe gente que come milho de feijão e as pessoas me julgam por gostar do cheetos de queijo https://t.co/ojw6o74x0c @gabfreestyleira doritos, não gosto mto de cheetos comendo cheetos mousse e pipoca de bacon tudo no mesmo dia e depois perguntando porque tô engordando tanto @cconfissoes ele é um punheteiro preguiçoso (\"freefiris jogadoris\" no original em latim) que não vai te comer nunca, pq tá ocupado comendo cheetos. antes eu tava 100% tristica, ai cheetos de lua e coquinha gelada me deixaram só 75% tristica — superações @lilizvante mentiu, cheetos é horrível. doritos&gt;&gt;&gt;&gt;&gt;cheetos degustei um cheetos de requeijão sábado digno de restaurante chique https://t.co/fvibngvme2 queria um doritos, cheetos, fandangos e batata frita kkkkkkkkkk pqp deusmeajuda 15/09/2020 descobri que o tigre do cheetos na verdade é um guepardo o cheetos mas também sou fã do doritos 😋 😋 😋 https://t.co/0gy8ouvvcm @letzeram q foi cheetos eu amo cheetos requeijão mas por 10 reais eu compro um pacote de 1kg de arroz. @gabfreestyleira cheetos pq doritos é caro e ruim @glowshacker o cheetos n tem coragem de banir não amg,se ele banir ele morre no mesmo dia pessoas que consomem qualquer coisa com cheiro forte dentro de ônibus fechado já me dá raiva mas nesse momento tem um casal do meu lado comendo cheetos mas o pior é estão sem máscara dentro dessa merda tudo começou a dar errado quando a elma chips acabou com o molhoucos no cheetos \"minha gatinha tem um cu com cheiro de cheetos pra caralho\" monark to com vontade de comer cheetos ou fandangos @_the_quiet_man vou gastar gasolina pra encontrar um nerd fedendo a cheetos na fronteira com minas por causa de internet sim melhor salgadinho: cheetos sabor requeijão 😘 tazos estão de volta no cheetos, doritos e outras marcas da elma chips https://t.co/j2adaugco9 via @exame @horanflavor o cheetos chora no banho, louis &gt;&gt;&gt;&gt;&gt;&gt; meu deus a ryujinijkkk parece um cheetos devia estar em último horrível https://t.co/3rwq2o7qos @gabfreestyleira doritos mas o cheetos de requeijão eh perfeito tbm @zic4rus gosta de cheetos de requeijão, ama batata frita, fala sozinha qnd ta brava, sua modelo fav é a gigi, gosta chocolate ao leite cheetos pipoca doce é minha nova religião 😍 https://t.co/bjcbrs40to me odeio mas n ao ponto de gostar do cheetos ambulante @jduhbabii @iownahusky @myzzle_ @neby_nebs @jackdavenport69 @1chokedathoe @danieru1313 @tarvh hot cheetos bomb, no cap 🧢 @antlsepticeye \"cheatus\"? who is cheatus? cheetos? cheetos. cheetos de requeijão e lekinha são as coisas que posso comer 92982828826 vezes q nunca vou enjoar @hunt1288 ouve throw away e flaming hot cheetos, são boas tb @l03n27 tem um cheetos que só fede a fundo de calcinha molhada. priquita com salmoura. 😏 @ajbelei salgadinho----- zoas,doritos e cheetos de requeijão rolou no pozinho de cheetos 🥺 https://t.co/vcznohwyvc almoçando cheetos, gostaram? eu estou viciada em cheetos doritos e o cheetos azul https://t.co/kc0n6jgmdr hj eu poderia facilmente jantar um pacotão de cheetos requeijão e beber três litro de coca ai essa foto do cheetos fico rindo sozinho qnd vejo kkkkk https://t.co/al3xl0ruwi @lumarquesrs kakakakakaakakakaak o fi da peste disse até 100 e o euro da 6 pow, n compro nem un cheetos aqui @negreiros98 @youtube quem ouvir eu dou um cheetos moço do cheetos nunca mais passou vei to viciada em flaming hot cheetos queria só um pacotinho de cheetos lua agr.. 😔 😔 😔 comi um cheetos e um bis do branco c um copão d coca. 🥰 😋 🤤 @michelotto8legs salticidae cheetos @lilizvante ai amg mas cheetos é bem melhor mxxm @orumaitou pelo amor de deus eu preciso ser sua amiga e lamber seus cheetos estragado ninguém: estadunidense: pra fazer essa receita você só precisa de frango, cheetos, queijo e fritar tudo que estiver envolvido nesse prato cheetos e doritos https://t.co/vwqg1jdz8p @luizylvr sempre que eu compro cheetos é isso 45g de cheetos de requeijão pra mim n é nada. eu preciso de no mínimo 280g 🤤 😋 @ladycreamyy e eu querendo fazer todos os meus, no caso o meu bumbum, berinjela e o cheetos @thecassmtz @hwasamade cheetos stans vontade de comer cheetos sabor requeijão @geisneves @caosfanboy @rapfalando o gordão com cheiro de cheetos ficou puto rapaziada @dhessicaronchii tenho que concordar com nova camisa que a cheetos lançou sei la do nada uma vontade de comer cheetos obrigado pelo merchan incels usuários do /mu/, enquanto vocês falam merda aqui e entopem o cu de cheetos ouvindo harsh noise, nos estamos crescendo a cada dia graças a otários como vcs que não cansam de falar da gente kkkkkkkkkkkkkk https://t.co/8lx7d2bzqs @ticostacruz isso é até normal. eu comi cheetos tomando café hmmm delícia de cheetos https://t.co/spcpayq0si vovó comprou um tipo aqueles banquinho estofado pra cheetos poder subir e descer da cama quando quiser eu to soft voltou a ter tazo no cheetos meu deus do céu aaaaaaaaaaaaaaaaaaaaaaaaaaaaaaaaaaaaaaaa to vendo filme de terror e comendo cheetos @arthorlima mto humild gato demais, o bigode dele parecem dois cheetos se beijando o cheetos de requeijão pisa em todos https://t.co/u1dgywiphh @kaihighs doritos cheetos and fritos @sergioabiud cheetos naranjas cara, o brt todo fechado e o pessoal comento cheetos dentro, fica um cheiro de cu do crl 🤬 🤬 🤬 🤬 🤬 @orumaitou seu cérebro é o cheetos estragado mais lindo que nos já vimos 😔 😔 😔 agora manda pack do pé mn eu sonhei q tava no mercado com duvida se eu comprava cheetos ou sucrilhos, qual é a lógica desse sonho c eu queria cheetos 🤦🏻\\u200d♀️ eu jantando cheetos e os alunos de gastro me olhando exatamente assim: 😨 😥 🤔 🤢 🥴 😵 queria tanto comer um cheetos @jairbolsonaro entendemos que vc está no armário bozonaro e fique sabendo que a gente te apoia, se vc querer assumir o seu relacionamento com o cheetos https://t.co/a1f1xjoz1k queria mt provar aqls cheetos picantes la deve ser mo bom cheetos los temas de jake paul café da manhã nutritivo é o meu, cheetos e trakinas nova mascote da cheetos https://t.co/pmpgvuccij cheetos tem gosto de pau sujo eles não tão percebendo que tão entregando o prêmio na mão desse fedô de cheetos? voce me oprimiu muito aqui atraves da tela do seu computador que pisca que ta cheio de cheetos em volta e seu foninho de luzinha. @satursadie demais meu deus, parece um cheetos molhado tá vindo de brinde no pacote de cheetos o combo lipoaspiração, rinoplastia e silicone? a hora e eu comendo cheetos como se fosse janta kk.. cheetos meu tudo e doritos perfeito com cheddar e bacon https://t.co/t5drzlhpwb @th_jkk_ @bts_twt bloq o logo dos animaniacs tem cheiro de cheetos bola cheetos bom demais o cheiro de cheetos https://t.co/epkn3dwinf @plastics0da kkkkk claro mano um alface com cheetos só *nao* passa batido cara sonhei q eu tinha uma coruja, quero mt uma agr vtnc so queria um cheetos de requeijao 😔 so minha cachorra que cheira cheetos as vezes? ruffles pq cheetos e fandangos é ruim https://t.co/sitlv07849 aranha cheetos https://t.co/4pl9tmwbs8 @__cheed \"encontramos os sujeitos dentro da casa tinha cheetos por todo o lado, aparentemente estavam super chapados\" @chimmyv_ acorda vc cheetos tem gosto de quê @intuitiveprevs nossa eu devia kkkkk to mandando um cheetos @gabfreestyleira cheetos sabor queijo em formato de lua @minniecat16 @cat_queen_sasha @iam_sherlock1 @puffssunny @bonehoffman @julieswann14 @fredzoomin @aubreyprincess1 @wilmabenton19 @pmaya16 @weach7 are de cheetos ok??? @michelotto8legs papa moscas após cair dentro de um pacote de cheetos @cryoongzi se vc tiver falando no charlisle puthin, só quero dizer que apoiador de cheetos não tem relevância eu e gabriel tomamos café da tarde suco tang e cheetos de requeijão e me senti na infância qnd merendava isso pelo menos a camiseta nova é linda e não parece uniforme do cheetos acabei de comer um pacote de cheetos, um pacote de pipocas, dois pacotes de gomas e uma monster... realmente quando estou com o período consigo ser uma besta @orumaitou seu cérebro de cheetos é perfeito, condecorada nem me vem com esse estilo indie foto saturada parecendo um pacotinho de cheetos cheetos de requeijão pq meche tanto comigo????? cheetos é ruim, bom dia. q vontade de comer um cheetos azul @aninha_mikhail kkkkkkkkk cheetos como assim ana @danilu_ds @mcpozedorodo @vinheteiro @eduardo_jo4o gordão, minha mãe não curte moleque obeso punheteiro que fede a cheetos. saudade de quando vinha alguma coisa no cheetos. e nao só um saco cheio de ar sobredosis de cheetos flamin hot por deus pq diachos q cheetos ta aparecendo aq minha mãe disse que cheetos tem gosto de besouro ??? desce cheetos 😂 @alanfonseca @mhmfarias @mrlborges @aeciodepapelao dos exemplos de comida que foram dados, são feitas com base na porção que o fabricante oferece dentro da embalagem, e deve ser mantida dessa forma, por isso que ninguém pode comer a metadado cheetos e alegar que não quer o resto. cheetos queijo cheddar &gt;&gt;&gt;&gt; @roleta__russa isso é cheetos @jikooksnamora o melhor: cheetos requeijão 😌 @ellifbeatz nós é novo demais pra ter o boomer lifestyle kkkkkkkkk nos é mais que sofá vendo o gordo do faustão comendo cheetos. ou não ok ja fiz minha pausa pra come cheetos. tou indo la continuar as frase bj #indo #frase @luigipato_ eu pagaria um cheetos pra ter visto, estou depressor pq n vi 🥺 @itzycitou a ryu parecendo um cheetos apaga ic https://t.co/vohnoygq8f @milgrau777 mil grau leva pavoro de lateral reserva, e quer pagar de brabo para um pm do rj, virar policial no rj é só pra quem tem coragem, mas o mais difícil que o mil grau viveu era decidir entre cheetos ou doritos, respeita às pessoas seu mlk! @vanilawolfhard parece um cheetos e após ser mordida por um cheetos radioativo, a aranha ganhou os poderes proporcionais de um cheetos e virou o espetacular arac-cheetos! \"com grandes poderes é impossível comer um só\"! https://t.co/skdu38gj2s @sojajas cheetos o fromaaagee @gabfreestyleira cheetos de requeijão &gt;&gt;&gt; cheetos ou fandangos https://t.co/csnkelvmot @staymanoela num é do cheetos? ele é tigre, não? @moguculture cheetos ainda tem mais q esse salgadinho q eu comprei @myfavjads cheetos suck meu cafe de manha foi cheetos e energetico 🙃 deus pq eu sou assim? fui comprar um fini e um cheetos pra lancha sabe e lembrei dela. 😶 @michelotto8legs aranha de cheetos @eaipaixao_ cheetos de requeijão e é isso, acho que passarei a virada do meu aniversário jogando, tomando vinho e comendo cheetos requeijão 🤙 ♥️ santos deve estar inseguro por estar parecendo um cheetos cheetos sabor câncer, delícia https://t.co/4vqhaq4xti @pedrosampaio_fc cheetos mix de queijo kkkkkkkkkkk #premiosmtvmiaw ￼ #mtvhinosentadao #mtvbrabapedrosampaio #mtvartistamusicalpedrosampaio vontade de comer aquele cheetos de requeijão 🤯 voltar com meu cheetos bolinha a elma chips não quer né https://t.co/vvk04pgkul #eutravoquando o cheetos ameaça de banir o tico e teco 😡 😡 @duaraafa eu peguei um onibus de 1h30 e sinceramente se eu n oeguei corona ali eu n pego mais, er avelho tossindo, criança sem mascara comendo cheetos, narigao pra fora e é claro, todas poltronas ocupadas........... cheetos de requeijao é o melhor salgadinho ja criado na face da terra, só perde pro de bolinha de queijo que infelizmente esta extinto cheetos requeijão+ café me fez lembrar do tempo da faculdade 🤧 @thamy_moraes olha isso que é união pra tirar o cheetos da presidência 👏 👏 tão certíssimos! @__bubulina cheetos picante ever 💭 ceade papai??? quelo come maixx quelo cheetos com milk-shake eu sou muito criativa pra nomes no among us - meu bumbum - cheetos - amongas - monguitas - josinaldo raio laser (no caso não coube tudo e chamei meus amigos para completar o nome) @arachi_uchiha @lilistarg comedor de cheetos @tres_abrazos ¿cheetos, doritos o chips? @italoogm mas tem um motivo pro carioca chamar cheetos de biscoito, é pq é biscoito krl, está na embalagem dizendo que é biscoito impressionante como eu não posso ter nada nenhuma guloseima guardada que minha mente não me deixa em paz um segundo e fica \"e aquele chocolate lá hein? e aquela bala fini? e aquele cheetos?\" @dudu_etero kkkkkk, pra que ofender a guria? não pode mais tomar banho de cheetos? td q eu comi ontem foi cheetos tô passando mal? talvez eu fico chocada com a maya comendo cebola como se fosse um cheetos selfie votou no chulezento, que sabor de cheetos delicioso @lilizvante cheetos de requeijão é o céu na minha boca mano eu ia fazer pipoca ne mas e o medo de acabar acordando alguém e vamos de cheetos e doritos mano falar pra vcs que só tem duas coisas que senti saudade até hoje desde que virei vegana: - cheetos de requeijão - yakult @oppsiten aquilo nao era seu pau chitta aquilo era um mini cheetos murcho você acha que me engana é???? espere pelo processo na sua porta @egorobin cheetos é bom, mas um besourin com sal hmmmmm os tazos do cheetos voltarooo???? sabe a cheetos https://t.co/jc07agjshn cheetos /beck /livro /djavan de fundo 🎶 @shuhuabatam cheetos aje. cheetos puffs ver the devil all the time quando acordar na tv e comendo meu bis, cheetos e cookies! saudade do cheetos bola felipe vai me deixa uma bola, saímos pra ir em caxias hj. lanchamos ele comprou um monte de chocolate uma caixa de paçoca e uns biscoitos cheetos. 😂 🥰 que vontade de comer um cheetos ou aqueles salgadinhos baratos. faz alguns (ou muitos) anos que não como cheetos sabor lua é o melhor salgadinho já feito @gabfreestyleira cheetos old @lilizvante cheetos certeza @jkofleek cheetos maior e melhor @victtcris clarør mais tarde comer um cheetos p hoje eu so queria um açaí uma pizza calabresa um prato de brigadeiro um sorvetin p tomar de madrugada e um cheetos 😔 '"
      ]
     },
     "execution_count": 57,
     "metadata": {},
     "output_type": "execute_result"
    }
   ],
   "source": [
    "tweets_treinamento_raw_e = deEmojify(tweets_treinamento_raw)\n",
    "tweets_treinamento_raw_e"
   ]
  },
  {
   "cell_type": "code",
   "execution_count": 58,
   "metadata": {},
   "outputs": [],
   "source": [
    "# String com os irrelevantes\n",
    "filtro_irrelevante_train = train.relevancia == 'irrelevante'\n",
    "treinamento_irrelevante = train.loc[filtro_irrelevante_train,:]\n",
    "\n",
    "tweets_irrelevantes = ''\n",
    "for tweet in treinamento_irrelevante.Treinamento:\n",
    "    tweets_irrelevantes = tweets_irrelevantes + ' ' + tweet\n",
    "\n",
    "    \n",
    "treinamento_irrelevante = deEmojify(cleanup_enter(cleanup(tweets_irrelevantes.lower())))"
   ]
  },
  {
   "cell_type": "code",
   "execution_count": 59,
   "metadata": {},
   "outputs": [],
   "source": [
    "# String com os neutros\n",
    "filtro_neutro_train = train.relevancia == 'neutro'\n",
    "treinamento_neutro = train.loc[filtro_neutro_train,:]\n",
    "\n",
    "tweets_neutro = ''\n",
    "for tweet in treinamento_neutro.Treinamento:\n",
    "    tweets_neutro = tweets_neutro + ' ' + tweet\n",
    "\n",
    "    \n",
    "treinamento_neutro = deEmojify(cleanup_enter(cleanup(tweets_neutro.lower())))"
   ]
  },
  {
   "cell_type": "code",
   "execution_count": 60,
   "metadata": {},
   "outputs": [],
   "source": [
    "# Criando lista e séries a partir das strings\n",
    "tweets_treinamento_lista = tweets_treinamento.split()\n",
    "treinamento_relevante_lista = treinamento_relevante.split()\n",
    "treinamento_irrelevante_lista = treinamento_irrelevante.split()\n",
    "treinamento_neutro_lista = treinamento_neutro.split()\n",
    "\n",
    "\n",
    "serie_treinamento = pd.Series(tweets_treinamento_lista)\n",
    "serie_treinamento_relevante = pd.Series(treinamento_relevante_lista)\n",
    "serie_treinamento_irrelevante = pd.Series(treinamento_irrelevante_lista)\n",
    "serie_treinamento_neutro = pd.Series(treinamento_neutro_lista)"
   ]
  },
  {
   "cell_type": "code",
   "execution_count": 61,
   "metadata": {},
   "outputs": [
    {
     "data": {
      "text/plain": [
       "cheetos            297\n",
       "de                 171\n",
       "e                  116\n",
       "um                  81\n",
       "o                   81\n",
       "                  ... \n",
       "aparecendo           1\n",
       "monguitas            1\n",
       "esmurram             1\n",
       "mtvhinosentadao      1\n",
       "quarto               1\n",
       "Length: 1261, dtype: int64"
      ]
     },
     "execution_count": 61,
     "metadata": {},
     "output_type": "execute_result"
    }
   ],
   "source": [
    "tabela_treinamento = serie_treinamento.value_counts()\n",
    "tabela_treinamento"
   ]
  },
  {
   "cell_type": "code",
   "execution_count": 62,
   "metadata": {},
   "outputs": [
    {
     "data": {
      "text/plain": [
       "cheetos       86\n",
       "de            49\n",
       "e             23\n",
       "requeijão     19\n",
       "o             18\n",
       "              ..\n",
       "dieta          1\n",
       "acompanhar     1\n",
       "conto          1\n",
       "nele           1\n",
       "toda           1\n",
       "Length: 287, dtype: int64"
      ]
     },
     "execution_count": 62,
     "metadata": {},
     "output_type": "execute_result"
    }
   ],
   "source": [
    "tabela_treinamento_relevante = serie_treinamento_relevante.value_counts()\n",
    "tabela_treinamento_relevante"
   ]
  },
  {
   "cell_type": "code",
   "execution_count": 63,
   "metadata": {},
   "outputs": [],
   "source": [
    "stopwords = ['por', 'se','uma','em','mais','q','que','na','da','do','no','eu','de','e','o','um','a','com','pra', 'mas', 'só', 'so']\n",
    "def remove_stopwords(lista):\n",
    "    nova_lista = []\n",
    "    for palavra in lista:\n",
    "        x = 0\n",
    "        if palavra in stopwords:\n",
    "            x = 1\n",
    "        if x == 0:\n",
    "            if palavra[-3:] == 'ndo' or palavra[-3:] == 'mos':\n",
    "                if palavra == 'quando' or palavra == 'mando':\n",
    "                    nova_lista.append(palavra)\n",
    "                else:\n",
    "                    nova_lista.append(palavra[:-3]+'r')\n",
    "            elif palavra == 'n' or palavra == 'nao':\n",
    "                nova_lista.append('não')\n",
    "            elif palavra == 'ta' or palavra =='tá':\n",
    "                nova_lista.append('está')\n",
    "            else:\n",
    "                nova_lista.append(palavra)\n",
    "    return nova_lista"
   ]
  },
  {
   "cell_type": "code",
   "execution_count": 64,
   "metadata": {},
   "outputs": [
    {
     "data": {
      "text/plain": [
       "cheetos      297\n",
       "é             60\n",
       "não           50\n",
       "comer         38\n",
       "requeijão     31\n",
       "tem           26\n",
       "doritos       26\n",
       "meu           23\n",
       "me            19\n",
       "gosto         14\n",
       "melhor        13\n",
       "pq            13\n",
       "cheiro        12\n",
       "minha         12\n",
       "vou           12\n",
       "vontade       12\n",
       "como          11\n",
       "queijo        11\n",
       "está          11\n",
       "queria        10\n",
       "dtype: int64"
      ]
     },
     "execution_count": 64,
     "metadata": {},
     "output_type": "execute_result"
    }
   ],
   "source": [
    "tweets_treinamento_stopwords_lista = remove_stopwords(tweets_treinamento_lista)\n",
    "        \n",
    "\n",
    "serie_treinamento_filtrado = pd.Series(tweets_treinamento_stopwords_lista)\n",
    "tabela_treinamento_filtrado = serie_treinamento_filtrado.value_counts()\n",
    "tabela_treinamento_filtrado_relativa = serie_treinamento_filtrado.value_counts(True)\n",
    "tabela_treinamento_filtrado.head(20)"
   ]
  },
  {
   "cell_type": "code",
   "execution_count": 65,
   "metadata": {},
   "outputs": [
    {
     "data": {
      "text/plain": [
       "cheetos       86\n",
       "requeijão     19\n",
       "é             18\n",
       "doritos       16\n",
       "comer         13\n",
       "melhor        11\n",
       "vontade        9\n",
       "fandangos      8\n",
       "gosto          7\n",
       "queria         7\n",
       "😋              6\n",
       "não            5\n",
       "sabor          5\n",
       "bom            5\n",
       "salgadinho     4\n",
       "pq             4\n",
       "eh             4\n",
       "ruim           4\n",
       "🤤              4\n",
       "p              3\n",
       "dtype: int64"
      ]
     },
     "execution_count": 65,
     "metadata": {},
     "output_type": "execute_result"
    }
   ],
   "source": [
    "# Removendo stop words da lista de todas as palavras relevantes\n",
    "treinamento_relevante_stopwords_lista = remove_stopwords(treinamento_relevante_lista)\n",
    "\n",
    "serie_treinamento_relevante_filtrado = pd.Series(treinamento_relevante_stopwords_lista)\n",
    "tabela_treinamento_relevante_filtrado = serie_treinamento_relevante_filtrado.value_counts()\n",
    "tabela_treinamento_relevante_filtrado_relativa = serie_treinamento_relevante_filtrado.value_counts(True)\n",
    "tabela_treinamento_relevante_filtrado.head(20)\n",
    "# palavras_relevantes_totais = len(tabela_treinamento_relevante_filtrado)\n",
    "# primeiras_relevantes = tabela_treinamento_relevante_filtrado.head(20)\n",
    "# P_Palavras = {}\n",
    "# for palavras, valor in primeiras_relevantes.items():\n",
    "#     P_Palavras[palavra] = (valor + 1) / (palavras_totais + palavras_relevantes_totais)\n",
    "# print(P_Palavras)"
   ]
  },
  {
   "cell_type": "code",
   "execution_count": 66,
   "metadata": {},
   "outputs": [
    {
     "data": {
      "text/plain": [
       "cheetos    116\n",
       "não         32\n",
       "é           24\n",
       "tem         13\n",
       "me          11\n",
       "meu         11\n",
       "cheiro      10\n",
       "está         8\n",
       "comer        8\n",
       "ele          7\n",
       "vou          7\n",
       "minha        7\n",
       "seu          7\n",
       "como         6\n",
       "aqui         6\n",
       "pq           6\n",
       "tipo         6\n",
       "estar        5\n",
       "vc           5\n",
       "essa         5\n",
       "dtype: int64"
      ]
     },
     "execution_count": 66,
     "metadata": {},
     "output_type": "execute_result"
    }
   ],
   "source": [
    "# Removendo stop words da lista de todas as palavras irrelevantes\n",
    "treinamento_irrelevante_stopwords_lista = remove_stopwords(treinamento_irrelevante_lista)\n",
    "\n",
    "serie_treinamento_irrelevante_filtrado = pd.Series(treinamento_irrelevante_stopwords_lista)\n",
    "tabela_treinamento_irrelevante_filtrado = serie_treinamento_irrelevante_filtrado.value_counts()\n",
    "tabela_treinamento_irrelevante_filtrado_relativa = serie_treinamento_irrelevante_filtrado.value_counts(True)\n",
    "tabela_treinamento_irrelevante_filtrado.head(20)"
   ]
  },
  {
   "cell_type": "code",
   "execution_count": 67,
   "metadata": {},
   "outputs": [
    {
     "data": {
      "text/plain": [
       "cheetos      95\n",
       "é            18\n",
       "comer        17\n",
       "não          13\n",
       "tem          11\n",
       "requeijão    10\n",
       "meu           9\n",
       "me            8\n",
       "doritos       7\n",
       "as            6\n",
       "gosto         5\n",
       "1             5\n",
       "pacote        5\n",
       "lua           4\n",
       "mim           4\n",
       "tudo          4\n",
       "café          4\n",
       "biscoito      4\n",
       "comprar       4\n",
       "isso          4\n",
       "dtype: int64"
      ]
     },
     "execution_count": 67,
     "metadata": {},
     "output_type": "execute_result"
    }
   ],
   "source": [
    "treinamento_neutro_stopwords_lista = remove_stopwords(treinamento_neutro_lista)\n",
    "\n",
    "serie_treinamento_neutro_filtrado = pd.Series(treinamento_neutro_stopwords_lista)\n",
    "tabela_treinamento_neutro_filtrado = serie_treinamento_neutro_filtrado.value_counts()\n",
    "tabela_treinamento_neutro_filtrado_relativa = serie_treinamento_neutro_filtrado.value_counts(True)\n",
    "tabela_treinamento_neutro_filtrado.head(20)"
   ]
  },
  {
   "cell_type": "markdown",
   "metadata": {},
   "source": [
    "___\n",
    "### Verificando a performance do Classificador\n",
    "\n",
    "Agora você deve testar o seu classificador com a base de Testes."
   ]
  },
  {
   "cell_type": "code",
   "execution_count": 68,
   "metadata": {},
   "outputs": [
    {
     "data": {
      "text/html": [
       "<div>\n",
       "<style scoped>\n",
       "    .dataframe tbody tr th:only-of-type {\n",
       "        vertical-align: middle;\n",
       "    }\n",
       "\n",
       "    .dataframe tbody tr th {\n",
       "        vertical-align: top;\n",
       "    }\n",
       "\n",
       "    .dataframe thead th {\n",
       "        text-align: right;\n",
       "    }\n",
       "</style>\n",
       "<table border=\"1\" class=\"dataframe\">\n",
       "  <thead>\n",
       "    <tr style=\"text-align: right;\">\n",
       "      <th></th>\n",
       "      <th>Teste</th>\n",
       "      <th>relevancia</th>\n",
       "      <th>classificador</th>\n",
       "    </tr>\n",
       "  </thead>\n",
       "  <tbody>\n",
       "    <tr>\n",
       "      <td>0</td>\n",
       "      <td>sou do tipo que quando tá conversando com algu...</td>\n",
       "      <td>0</td>\n",
       "      <td>neutro</td>\n",
       "    </tr>\n",
       "    <tr>\n",
       "      <td>1</td>\n",
       "      <td>att fresquinha de flaming hot cheetos!!!! http...</td>\n",
       "      <td>1</td>\n",
       "      <td>neutro</td>\n",
       "    </tr>\n",
       "    <tr>\n",
       "      <td>2</td>\n",
       "      <td>me entupindo de cheetos enquanto vejo tapas e ...</td>\n",
       "      <td>1</td>\n",
       "      <td>irrelevante</td>\n",
       "    </tr>\n",
       "    <tr>\n",
       "      <td>3</td>\n",
       "      <td>cheetos ou doritos https://t.co/caytqjylnp</td>\n",
       "      <td>2</td>\n",
       "      <td>relevante</td>\n",
       "    </tr>\n",
       "    <tr>\n",
       "      <td>4</td>\n",
       "      <td>mas quem colocou o cheetos na minha tml hoje ?</td>\n",
       "      <td>2</td>\n",
       "      <td>irrelevante</td>\n",
       "    </tr>\n",
       "    <tr>\n",
       "      <td>...</td>\n",
       "      <td>...</td>\n",
       "      <td>...</td>\n",
       "      <td>...</td>\n",
       "    </tr>\n",
       "    <tr>\n",
       "      <td>195</td>\n",
       "      <td>@bebediaboo eu muito li \"anti-cheetos\"</td>\n",
       "      <td>0</td>\n",
       "      <td>relevante</td>\n",
       "    </tr>\n",
       "    <tr>\n",
       "      <td>196</td>\n",
       "      <td>salgadinho, cheetos, biscoito recheado, biscoi...</td>\n",
       "      <td>0</td>\n",
       "      <td>neutro</td>\n",
       "    </tr>\n",
       "    <tr>\n",
       "      <td>197</td>\n",
       "      <td>queria experimentar takis e hot cheetos</td>\n",
       "      <td>1</td>\n",
       "      <td>neutro</td>\n",
       "    </tr>\n",
       "    <tr>\n",
       "      <td>198</td>\n",
       "      <td>@lwttersondre cheetos de requeijão &amp;gt;&amp;gt;&amp;gt...</td>\n",
       "      <td>2</td>\n",
       "      <td>relevante</td>\n",
       "    </tr>\n",
       "    <tr>\n",
       "      <td>199</td>\n",
       "      <td>o cheetos azul é o melhor de todos e se você n...</td>\n",
       "      <td>2</td>\n",
       "      <td>relevante</td>\n",
       "    </tr>\n",
       "  </tbody>\n",
       "</table>\n",
       "<p>200 rows × 3 columns</p>\n",
       "</div>"
      ],
      "text/plain": [
       "                                                 Teste  relevancia  \\\n",
       "0    sou do tipo que quando tá conversando com algu...           0   \n",
       "1    att fresquinha de flaming hot cheetos!!!! http...           1   \n",
       "2    me entupindo de cheetos enquanto vejo tapas e ...           1   \n",
       "3           cheetos ou doritos https://t.co/caytqjylnp           2   \n",
       "4       mas quem colocou o cheetos na minha tml hoje ?           2   \n",
       "..                                                 ...         ...   \n",
       "195             @bebediaboo eu muito li \"anti-cheetos\"           0   \n",
       "196  salgadinho, cheetos, biscoito recheado, biscoi...           0   \n",
       "197            queria experimentar takis e hot cheetos           1   \n",
       "198  @lwttersondre cheetos de requeijão &gt;&gt;&gt...           2   \n",
       "199  o cheetos azul é o melhor de todos e se você n...           2   \n",
       "\n",
       "    classificador  \n",
       "0          neutro  \n",
       "1          neutro  \n",
       "2     irrelevante  \n",
       "3       relevante  \n",
       "4     irrelevante  \n",
       "..            ...  \n",
       "195     relevante  \n",
       "196        neutro  \n",
       "197        neutro  \n",
       "198     relevante  \n",
       "199     relevante  \n",
       "\n",
       "[200 rows x 3 columns]"
      ]
     },
     "execution_count": 68,
     "metadata": {},
     "output_type": "execute_result"
    }
   ],
   "source": [
    "P_R = len(treinamento_relevante_stopwords_lista) / len(tweets_treinamento_stopwords_lista)\n",
    "P_Rc = len(treinamento_irrelevante_stopwords_lista) / len(tweets_treinamento_stopwords_lista)\n",
    "P_N = len(treinamento_neutro_stopwords_lista) / len(tweets_treinamento_stopwords_lista)\n",
    "classificador = []\n",
    "def testar (tweet):\n",
    "    P_tweetDadoR = 1\n",
    "    P_tweetDadoRc = 1\n",
    "    P_tweetDadoN = 1\n",
    "    for palavra in tweet_teste:\n",
    "        # verifica se a palavra existe no relevante\n",
    "        if palavra in tabela_treinamento_relevante_filtrado:\n",
    "            P_tweetDadoR = P_tweetDadoR*(tabela_treinamento_relevante_filtrado[palavra]+1) / (len(tabela_treinamento_filtrado)+len(tabela_treinamento_relevante_filtrado))\n",
    "            # verifica se a palavra existe no irrelevante e no relevante\n",
    "            if palavra in tabela_treinamento_irrelevante_filtrado:\n",
    "                P_tweetDadoRc = P_tweetDadoRc*(tabela_treinamento_irrelevante_filtrado[palavra]+1) / (len(tabela_treinamento_filtrado)+len(tabela_treinamento_irrelevante_filtrado))\n",
    "                # verifica se a palavra existe no irrelevante, neutro e relevante\n",
    "                if palavra in tabela_treinamento_neutro_filtrado:\n",
    "                    P_tweetDadoN = P_tweetDadoN*(tabela_treinamento_neutro_filtrado[palavra]+1) / (len(tabela_treinamento_filtrado)+len(tabela_treinamento_neutro_filtrado))\n",
    "                # se não existe a palavra no neutro, considera-se frequência 0\n",
    "                else:\n",
    "                    P_tweetDadoN = P_tweetDadoN / (len(tabela_treinamento_filtrado)+len(tabela_treinamento_neutro_filtrado))\n",
    "            # se não existe a palavra no irrelevante, considera-se frequencia 0\n",
    "            else:\n",
    "                P_tweetDadoRc = P_tweetDadoRc / (len(tabela_treinamento_filtrado)+len(tabela_treinamento_irrelevante_filtrado)) \n",
    "                 # verifica se a palavra existe no neutro e relevante\n",
    "                if palavra in tabela_treinamento_neutro_filtrado:\n",
    "                    P_tweetDadoN = P_tweetDadoN*(tabela_treinamento_neutro_filtrado[palavra]+1) / (len(tabela_treinamento_filtrado)+len(tabela_treinamento_neutro_filtrado))\n",
    "                # se não existe a palavra no neutro, considera-se frequência 0\n",
    "                else:\n",
    "                    P_tweetDadoN = P_tweetDadoN / (len(tabela_treinamento_filtrado)+len(tabela_treinamento_neutro_filtrado))\n",
    "\n",
    "        else:\n",
    "            # se n existe a palavra no relevante, considera-se frequência 0\n",
    "            P_tweetDadoR = P_tweetDadoR / (len(tabela_treinamento_filtrado)+len(tabela_treinamento_relevante_filtrado))\n",
    "             # verifica se a palavra existe no irrelevante\n",
    "            if palavra in tabela_treinamento_irrelevante_filtrado:\n",
    "                P_tweetDadoRc = P_tweetDadoRc*(tabela_treinamento_irrelevante_filtrado[palavra]+1) / (len(tabela_treinamento_filtrado)+len(tabela_treinamento_irrelevante_filtrado))\n",
    "                 # verifica se a palavra existe no irrelevante e neutro \n",
    "                if palavra in tabela_treinamento_neutro_filtrado:\n",
    "                    P_tweetDadoN = P_tweetDadoN*(tabela_treinamento_neutro_filtrado[palavra]+1) / (len(tabela_treinamento_filtrado)+len(tabela_treinamento_neutro_filtrado))\n",
    "                # se não existe a palavra no neutro, considera-se frequência 0\n",
    "                else:\n",
    "                    P_tweetDadoN = P_tweetDadoN / (len(tabela_treinamento_filtrado)+len(tabela_treinamento_neutro_filtrado))\n",
    "\n",
    "            # se n existe a palavra no irrelevante, considera-se frequência 0\n",
    "            else:\n",
    "                P_tweetDadoRc = P_tweetDadoRc / (len(tabela_treinamento_filtrado)+len(tabela_treinamento_irrelevante_filtrado))\n",
    "                 # verifica se a palavra existe no neutro\n",
    "                if palavra in tabela_treinamento_neutro_filtrado:\n",
    "                    P_tweetDadoN = P_tweetDadoN*(tabela_treinamento_neutro_filtrado[palavra]+1) / (len(tabela_treinamento_filtrado)+len(tabela_treinamento_neutro_filtrado))\n",
    "                # se não existe a palavra no neutro, considera-se frequência 0\n",
    "                else:\n",
    "                    P_tweetDadoN = P_tweetDadoN / (len(tabela_treinamento_filtrado)+len(tabela_treinamento_neutro_filtrado))\n",
    "\n",
    "    \n",
    "    P_RDadoTweet = P_tweetDadoR * P_R\n",
    "    P_RcDadoTweet = P_tweetDadoRc * P_Rc\n",
    "    P_NdadoTweet = P_tweetDadoN * P_N\n",
    "    if P_RDadoTweet >= P_RcDadoTweet:\n",
    "        if P_RDadoTweet >=  P_NdadoTweet:\n",
    "            classificador.append('relevante')\n",
    "        else:\n",
    "            classificador.append('neutro')\n",
    "    else:\n",
    "        if P_RcDadoTweet > P_NdadoTweet:\n",
    "            classificador.append('irrelevante')\n",
    "        else:\n",
    "            classificador.append('neutro')\n",
    "\n",
    "for tweet in test.Teste:\n",
    "    tweet_teste = remove_stopwords(deEmojify(cleanup_enter(cleanup(link(tweet.lower())))).split())\n",
    "    testar(tweet_teste)\n",
    "test['classificador'] = classificador\n",
    "test\n",
    "    \n",
    "    \n",
    "    \n",
    "    \n",
    "    "
   ]
  },
  {
   "cell_type": "code",
   "execution_count": 69,
   "metadata": {},
   "outputs": [
    {
     "data": {
      "text/html": [
       "<div>\n",
       "<style scoped>\n",
       "    .dataframe tbody tr th:only-of-type {\n",
       "        vertical-align: middle;\n",
       "    }\n",
       "\n",
       "    .dataframe tbody tr th {\n",
       "        vertical-align: top;\n",
       "    }\n",
       "\n",
       "    .dataframe thead th {\n",
       "        text-align: right;\n",
       "    }\n",
       "</style>\n",
       "<table border=\"1\" class=\"dataframe\">\n",
       "  <thead>\n",
       "    <tr style=\"text-align: right;\">\n",
       "      <th>classificador</th>\n",
       "      <th>irrelevante</th>\n",
       "      <th>neutro</th>\n",
       "      <th>relevante</th>\n",
       "    </tr>\n",
       "    <tr>\n",
       "      <th>relevancia</th>\n",
       "      <th></th>\n",
       "      <th></th>\n",
       "      <th></th>\n",
       "    </tr>\n",
       "  </thead>\n",
       "  <tbody>\n",
       "    <tr>\n",
       "      <td>0</td>\n",
       "      <td>0.506494</td>\n",
       "      <td>0.272727</td>\n",
       "      <td>0.220779</td>\n",
       "    </tr>\n",
       "    <tr>\n",
       "      <td>1</td>\n",
       "      <td>0.351852</td>\n",
       "      <td>0.388889</td>\n",
       "      <td>0.259259</td>\n",
       "    </tr>\n",
       "    <tr>\n",
       "      <td>2</td>\n",
       "      <td>0.144928</td>\n",
       "      <td>0.231884</td>\n",
       "      <td>0.623188</td>\n",
       "    </tr>\n",
       "  </tbody>\n",
       "</table>\n",
       "</div>"
      ],
      "text/plain": [
       "classificador  irrelevante    neutro  relevante\n",
       "relevancia                                     \n",
       "0                 0.506494  0.272727   0.220779\n",
       "1                 0.351852  0.388889   0.259259\n",
       "2                 0.144928  0.231884   0.623188"
      ]
     },
     "execution_count": 69,
     "metadata": {},
     "output_type": "execute_result"
    }
   ],
   "source": [
    "sentimento = pd.crosstab(test.relevancia, test.classificador, normalize='index')\n",
    "sentimento"
   ]
  },
  {
   "cell_type": "code",
   "execution_count": 70,
   "metadata": {},
   "outputs": [
    {
     "name": "stdout",
     "output_type": "stream",
     "text": [
      "a probabilidade de ser neutro: 0.0025511188610002036\n",
      "a probabilidade de ser relevante: 0.0008111715153296113\n",
      "a probabilidade de ser irrelevante: 0.008613441496045532\n"
     ]
    }
   ],
   "source": [
    "P_RDadonao = (tabela_treinamento_relevante_filtrado['não']+1) / (len(tabela_treinamento_filtrado)+len(tabela_treinamento_relevante_filtrado))*P_R\n",
    "P_RcDadonao = (tabela_treinamento_irrelevante_filtrado['não']+1) / (len(tabela_treinamento_filtrado)+len(tabela_treinamento_irrelevante_filtrado))*P_Rc\n",
    "P_NDadonao = (tabela_treinamento_neutro_filtrado['não']+1) / (len(tabela_treinamento_filtrado)+len(tabela_treinamento_neutro_filtrado))*P_N\n",
    "print('a probabilidade de ser neutro: {0}'.format(P_NDadonao))\n",
    "print('a probabilidade de ser relevante: {0}'.format(P_RDadonao))\n",
    "print('a probabilidade de ser irrelevante: {0}'.format(P_RcDadonao))"
   ]
  },
  {
   "cell_type": "markdown",
   "metadata": {},
   "source": [
    "___\n",
    "### Concluindo"
   ]
  },
  {
   "cell_type": "markdown",
   "metadata": {},
   "source": [
    "- O nosso classificador performa de forma razoável para classificar os tweets, principalmente os relevantes. No entanto, em relação aos tweets classificados como neutros e irrelevantes, a chance de nosso classificador errar será maior.\n",
    "\n",
    "- Quanto aos tweets que contém dupla negação e sarcasmo, nosso classificador funcionará na maioria das vezes, pois tweets que contém palavras de negação ou sarcásticas não afetarão os conceitos classificatórios de nosso classificador, visto que os nossos conceitos de relevância são baseados na condição de demonstração de opinião. Ou seja, caso o tweet esteja relacionado a alguma forma de opinião, ele será relevante. \n",
    "\n",
    "- Caso fosse decidido por utilizar nosso classificador para gerar uma amostra maior de treinamento, o nosso classificador se tornaria enviesado. Isso é verdade, pois quando desejamos por obter uma base de dados maior, o nosso objetivo seria por aperfeiçoar as probabilidades de relevância de cada palavra. No entanto, caso utilizássemos o nosso classificador para gerar mais tweets, as probabilidades de relevância de cada palavra permaneceriam constantes.\n",
    "\n",
    "- "
   ]
  },
  {
   "cell_type": "code",
   "execution_count": null,
   "metadata": {},
   "outputs": [],
   "source": []
  },
  {
   "cell_type": "markdown",
   "metadata": {},
   "source": [
    "___\n",
    "## Aperfeiçoamento:\n",
    "\n",
    "Os trabalhos vão evoluir em conceito dependendo da quantidade de itens avançados:\n",
    "\n",
    "* Limpar: \\n, :, \", ', (, ), etc SEM remover emojis\n",
    "* Corrigir separação de espaços entre palavras e emojis ou entre emojis e emojis\n",
    "* Propor outras limpezas e transformações que não afetem a qualidade da informação ou classificação\n",
    "* Criar categorias intermediárias de relevância baseadas na probabilidade: ex.: muito relevante, relevante, neutro, irrelevante, muito irrelevante (3 categorias: C, mais categorias conta para B)\n",
    "* Explicar por que não posso usar o próprio classificador para gerar mais amostras de treinamento\n",
    "* Propor diferentes cenários para Naïve Bayes fora do contexto do projeto\n",
    "* Sugerir e explicar melhorias reais com indicações concretas de como implementar (indicar como fazer e indicar material de pesquisa)\n",
    "* Montar um dashboard que realiza análise de sentimento e visualiza estes dados"
   ]
  },
  {
   "cell_type": "markdown",
   "metadata": {},
   "source": [
    "___\n",
    "## Referências"
   ]
  },
  {
   "cell_type": "markdown",
   "metadata": {},
   "source": [
    "[Naive Bayes and Text Classification](https://arxiv.org/pdf/1410.5329.pdf)  **Mais completo**\n",
    "\n",
    "[A practical explanation of a Naive Bayes Classifier](https://monkeylearn.com/blog/practical-explanation-naive-bayes-classifier/) **Mais simples**"
   ]
  },
  {
   "cell_type": "code",
   "execution_count": null,
   "metadata": {},
   "outputs": [],
   "source": []
  }
 ],
 "metadata": {
  "kernelspec": {
   "display_name": "Python 3",
   "language": "python",
   "name": "python3"
  },
  "language_info": {
   "codemirror_mode": {
    "name": "ipython",
    "version": 3
   },
   "file_extension": ".py",
   "mimetype": "text/x-python",
   "name": "python",
   "nbconvert_exporter": "python",
   "pygments_lexer": "ipython3",
   "version": "3.7.4"
  }
 },
 "nbformat": 4,
 "nbformat_minor": 4
}
